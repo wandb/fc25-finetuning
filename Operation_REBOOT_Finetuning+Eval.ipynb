{
 "cells": [
  {
   "cell_type": "markdown",
   "id": "yl-PKGEcT4Rm",
   "metadata": {
    "id": "yl-PKGEcT4Rm"
   },
   "source": [
    "<p align=\"center\">\n",
    "<img src=\"http://wandb.me/logo-im-png\" width=\"800\" alt=\"Weights & Biases\" />\n",
    "</p>"
   ]
  },
  {
   "cell_type": "markdown",
   "id": "e6ae8d5f",
   "metadata": {
    "id": "e6ae8d5f"
   },
   "source": [
    "# 🪐 Operation REBOOT: Mission Start\n",
    "\n",
    "Welcome, **Neural Architect**. The ship's AI core is down. Your job: fine-tune a foundational model with astrological Q&A data to restore its deep space reasoning abilities.\n",
    "\n",
    "**Your mission:**\n",
    "- Adjust dataset splits\n",
    "- Configure training arguments\n",
    "- Launch training and monitor with **Weights & Biases (W&B)**\n",
    "- Test and evaluate your fine-tuned model\n",
    "\n",
    "All systems go. Let's bring this vessel back online."
   ]
  },
  {
   "cell_type": "markdown",
   "id": "Z4hJWD_fQ_CA",
   "metadata": {
    "id": "Z4hJWD_fQ_CA"
   },
   "source": [
    "#### Install and Import  "
   ]
  },
  {
   "cell_type": "code",
   "execution_count": 1,
   "id": "udsFRNPeQ-WY",
   "metadata": {
    "colab": {
     "base_uri": "https://localhost:8080/"
    },
    "id": "udsFRNPeQ-WY",
    "outputId": "20101bfd-1aa4-4f0f-ece2-0ed51d41503e"
   },
   "outputs": [
    {
     "name": "stdout",
     "output_type": "stream",
     "text": [
      "\u001b[31mERROR: pip's dependency resolver does not currently take into account all the packages that are installed. This behaviour is the source of the following dependency conflicts.\n",
      "pathos 0.3.4 requires dill>=0.4.0, but you have dill 0.3.8 which is incompatible.\n",
      "pathos 0.3.4 requires multiprocess>=0.70.18, but you have multiprocess 0.70.16 which is incompatible.\u001b[0m\u001b[31m\n",
      "\u001b[0m"
     ]
    }
   ],
   "source": [
    "!pip install transformers datasets accelerate wandb trl huggingface_hub bitsandbytes peft torchvision -q"
   ]
  },
  {
   "cell_type": "code",
   "execution_count": 2,
   "id": "Lcd7lpzkRH5a",
   "metadata": {
    "id": "Lcd7lpzkRH5a"
   },
   "outputs": [],
   "source": [
    "import wandb\n",
    "\n",
    "import json\n",
    "import math\n",
    "import random\n",
    "from pathlib import Path\n",
    "\n",
    "\n",
    "import torch\n",
    "import torchvision\n",
    "import pandas as pd\n",
    "from datasets import Dataset\n",
    "from transformers import TrainingArguments, Trainer"
   ]
  },
  {
   "cell_type": "code",
   "execution_count": 3,
   "id": "53e039a1-4194-4ae4-8338-ed31bd097d89",
   "metadata": {},
   "outputs": [],
   "source": [
    "from utilities.helpers import *"
   ]
  },
  {
   "cell_type": "markdown",
   "id": "e022b8ad",
   "metadata": {
    "id": "e022b8ad"
   },
   "source": [
    "## 🔌 Connect Neural Telemetry (W&B Setup)"
   ]
  },
  {
   "cell_type": "code",
   "execution_count": 4,
   "id": "f5c79fd6",
   "metadata": {
    "colab": {
     "base_uri": "https://localhost:8080/"
    },
    "id": "f5c79fd6",
    "outputId": "bc53d709-9eb1-419a-cdda-9bac5d1ff6ea"
   },
   "outputs": [
    {
     "name": "stderr",
     "output_type": "stream",
     "text": [
      "\u001b[34m\u001b[1mwandb\u001b[0m: \u001b[32m\u001b[41mERROR\u001b[0m Failed to detect the name of this notebook. You can set it manually with the WANDB_NOTEBOOK_NAME environment variable to enable code saving.\n",
      "\u001b[34m\u001b[1mwandb\u001b[0m: Logging into wandb.ai. (Learn how to deploy a W&B server locally: https://wandb.me/wandb-server)\n",
      "\u001b[34m\u001b[1mwandb\u001b[0m: You can find your API key in your browser here: https://wandb.ai/authorize\n",
      "\u001b[34m\u001b[1mwandb\u001b[0m: Paste an API key from your profile and hit enter:"
     ]
    },
    {
     "name": "stdin",
     "output_type": "stream",
     "text": [
      "  ········\n"
     ]
    },
    {
     "name": "stderr",
     "output_type": "stream",
     "text": [
      "\u001b[34m\u001b[1mwandb\u001b[0m: \u001b[33mWARNING\u001b[0m If you're specifying your api key in code, ensure this code is not shared publicly.\n",
      "\u001b[34m\u001b[1mwandb\u001b[0m: \u001b[33mWARNING\u001b[0m Consider setting the WANDB_API_KEY environment variable, or running `wandb login` from the command line.\n",
      "\u001b[34m\u001b[1mwandb\u001b[0m: No netrc file found, creating one.\n",
      "\u001b[34m\u001b[1mwandb\u001b[0m: Appending key for api.wandb.ai to your netrc file: /home/ec2-user/.netrc\n",
      "\u001b[34m\u001b[1mwandb\u001b[0m: Currently logged in as: \u001b[33manushrav-vatsa\u001b[0m (\u001b[33mwandb\u001b[0m) to \u001b[32mhttps://api.wandb.ai\u001b[0m. Use \u001b[1m`wandb login --relogin`\u001b[0m to force relogin\n"
     ]
    },
    {
     "data": {
      "text/plain": [
       "True"
      ]
     },
     "execution_count": 4,
     "metadata": {},
     "output_type": "execute_result"
    }
   ],
   "source": [
    "# When prompted to authorize your\n",
    "# wandb: You can find your API key in your browser here: https://wandb.ai/authorize\n",
    "# wandb: Paste an API key from your profile and hit enter:\n",
    "\n",
    "#wandb.login(key=wandb_key)\n",
    "wandb.login()"
   ]
  },
  {
   "cell_type": "code",
   "execution_count": 6,
   "id": "b2252cad",
   "metadata": {
    "id": "b2252cad"
   },
   "outputs": [],
   "source": [
    "WANDB_PROJECT_NAME = \"Astros-FT-Workshop\"\n",
    "WANDB_ENTITY = \"FT-Testing\" #Set your W&B Entity #TODO - Change to None for final release\n",
    "WORKSHOP_TEAM_NAME = \"Wandb_Crew\" #Set to your Workshop Team Name #TODO - Change to None for final release"
   ]
  },
  {
   "cell_type": "markdown",
   "id": "b67257b8",
   "metadata": {
    "id": "b67257b8"
   },
   "source": [
    "## 🧪 Dataset Control Room\n",
    "Adjust the dataset splits and prepare the astrological QA dataset for training."
   ]
  },
  {
   "cell_type": "markdown",
   "id": "e3f8b93f",
   "metadata": {
    "id": "e3f8b93f"
   },
   "source": [
    "## 🌎 Initialize Experiment, Read Data, Split Data ☄️\n",
    "\n",
    "In this section, we:\n",
    "\n",
    "* Retrieve the Astros Dataset from [W&B Registry FC_FT_Workshop_Dataset collection](https://wandb.ai/orgs/FullyConnected-2025-Workshops/registry/dataset?selectionPath=fullyconnected-2025-workshops%2Fwandb-registry-dataset%2FFC_FT_Workshop_Dataset&view=versions) TODO: Update for final version\n",
    "* Load the Astros Dataset containing universe-related Q&A data.\n",
    "* Create prompts from the question/answer pairs & load into a pandas dataframe\n",
    "* Convert the pandas DataFrame into a Hugging Face Dataset.\n",
    "\n",
    "✅ All the heavy lifting is done here automatically — no manual setup needed"
   ]
  },
  {
   "cell_type": "markdown",
   "id": "f9239842",
   "metadata": {
    "id": "f9239842"
   },
   "source": [
    "#### Let's prepare our training dataset"
   ]
  },
  {
   "cell_type": "code",
   "execution_count": 7,
   "id": "4602a18a",
   "metadata": {
    "colab": {
     "base_uri": "https://localhost:8080/",
     "height": 436
    },
    "id": "4602a18a",
    "outputId": "ec723b7f-2c25-4b41-a2b4-3eafc276fdae"
   },
   "outputs": [
    {
     "name": "stdout",
     "output_type": "stream",
     "text": [
      "Step 1: Downloading dataset from Weights & Biases...\n"
     ]
    },
    {
     "data": {
      "text/html": [
       "Tracking run with wandb version 0.19.11"
      ],
      "text/plain": [
       "<IPython.core.display.HTML object>"
      ]
     },
     "metadata": {},
     "output_type": "display_data"
    },
    {
     "data": {
      "text/html": [
       "Run data is saved locally in <code>/home/ec2-user/SageMaker/fc25-finetuning/wandb/run-20250523_145908-0f9zpvo8</code>"
      ],
      "text/plain": [
       "<IPython.core.display.HTML object>"
      ]
     },
     "metadata": {},
     "output_type": "display_data"
    },
    {
     "data": {
      "text/html": [
       "Syncing run <strong><a href='https://wandb.ai/FT-Testing/Astros-FT-Workshop/runs/0f9zpvo8' target=\"_blank\">fetch_astros_dataset</a></strong> to <a href='https://wandb.ai/FT-Testing/Astros-FT-Workshop' target=\"_blank\">Weights & Biases</a> (<a href='https://wandb.me/developer-guide' target=\"_blank\">docs</a>)<br>"
      ],
      "text/plain": [
       "<IPython.core.display.HTML object>"
      ]
     },
     "metadata": {},
     "output_type": "display_data"
    },
    {
     "data": {
      "text/html": [
       " View project at <a href='https://wandb.ai/FT-Testing/Astros-FT-Workshop' target=\"_blank\">https://wandb.ai/FT-Testing/Astros-FT-Workshop</a>"
      ],
      "text/plain": [
       "<IPython.core.display.HTML object>"
      ]
     },
     "metadata": {},
     "output_type": "display_data"
    },
    {
     "data": {
      "text/html": [
       " View run at <a href='https://wandb.ai/FT-Testing/Astros-FT-Workshop/runs/0f9zpvo8' target=\"_blank\">https://wandb.ai/FT-Testing/Astros-FT-Workshop/runs/0f9zpvo8</a>"
      ],
      "text/plain": [
       "<IPython.core.display.HTML object>"
      ]
     },
     "metadata": {},
     "output_type": "display_data"
    },
    {
     "name": "stderr",
     "output_type": "stream",
     "text": [
      "\u001b[34m\u001b[1mwandb\u001b[0m:   1 of 1 files downloaded.  \n"
     ]
    },
    {
     "data": {
      "text/html": [],
      "text/plain": [
       "<IPython.core.display.HTML object>"
      ]
     },
     "metadata": {},
     "output_type": "display_data"
    },
    {
     "data": {
      "text/html": [
       " View run <strong style=\"color:#cdcd00\">fetch_astros_dataset</strong> at: <a href='https://wandb.ai/FT-Testing/Astros-FT-Workshop/runs/0f9zpvo8' target=\"_blank\">https://wandb.ai/FT-Testing/Astros-FT-Workshop/runs/0f9zpvo8</a><br> View project at: <a href='https://wandb.ai/FT-Testing/Astros-FT-Workshop' target=\"_blank\">https://wandb.ai/FT-Testing/Astros-FT-Workshop</a><br>Synced 7 W&B file(s), 0 media file(s), 0 artifact file(s) and 0 other file(s)"
      ],
      "text/plain": [
       "<IPython.core.display.HTML object>"
      ]
     },
     "metadata": {},
     "output_type": "display_data"
    },
    {
     "data": {
      "text/html": [
       "Find logs at: <code>./wandb/run-20250523_145908-0f9zpvo8/logs</code>"
      ],
      "text/plain": [
       "<IPython.core.display.HTML object>"
      ]
     },
     "metadata": {},
     "output_type": "display_data"
    },
    {
     "name": "stdout",
     "output_type": "stream",
     "text": [
      "✅ Dataset downloaded successfully!\n",
      "\n",
      "Loading training dataset...\n",
      "✅ Successfully loaded dataset with no errors.\n",
      "✅ Training dataset loaded with 1600 examples\n",
      "\n",
      "Dataset Statistics:\n",
      "Training examples: 1600\n",
      "\n",
      "Example prompt format:\n",
      "Question: What are 'Superluminous Supernovae' (SLSNe) and what distinguishes Type I SLSNe from normal Type Ia supernovae spectroscopically?\n",
      "Answer: Superluminous Supernovae (SLSNe) are much more luminous than normal Type Ia supernovae. Spectroscopically, Type I SLSNe are characterized by the absence of hydrogen and strong helium lines near peak light (like normal SNe Ia), but they show strong, broad metal lines, often including oxygen, magnesium, and calcium. Normal SNe Ia are defined by the presence of strong silicon absorption lines (Si II λ6355) near peak light, which are often weak or absent in SLSNe I. The differences in spectra indicate different progenitor systems and explosion mechanisms: SNe Ia are thermonuclear disruptions of white dwarfs, while SLSNe I are thought to be core-collapse explosions of massive stars, often powered by magnetars or CSM interaction, despite their lack of hydrogen.</s>\n"
     ]
    }
   ],
   "source": [
    "# Step 1: Initialize W&B run and download dataset\n",
    "print(\"Step 1: Downloading dataset from Weights & Biases...\")\n",
    "run = wandb.init(entity=WANDB_ENTITY,\n",
    "                 project=WANDB_PROJECT_NAME,\n",
    "                 job_type=\"data_retrieval\",\n",
    "                 name=\"fetch_astros_dataset\"\n",
    "                 )\n",
    "\n",
    "# Download the dataset artifact\n",
    "artifact = run.use_artifact('wandb-registry-dataset/FC_FT_Workshop_Dataset:v4', type='dataset')\n",
    "dataset_dir = artifact.download()\n",
    "run.finish()\n",
    "print(\"✅ Dataset downloaded successfully!\")\n",
    "\n",
    "# Step 2: Load and prepare datasets\n",
    "df_train, training_dataset = load_and_prepare_dataset(dataset_dir, \"astro_dataset_train.jsonl\", \"training\") #look at the helper fuctions if you're interested in how we prepare the data\n",
    "\n",
    "# Print dataset statistics\n",
    "print(\"\\nDataset Statistics:\")\n",
    "print(f\"Training examples: {len(df_train)}\")\n",
    "print(\"\\nExample prompt format:\")\n",
    "print(df_train['text'].iloc[0])"
   ]
  },
  {
   "cell_type": "markdown",
   "id": "9045aafb",
   "metadata": {
    "id": "9045aafb"
   },
   "source": [
    "### 🌌 Dataset Loaded Successfully!\n",
    "\n",
    "At this point, we've:\n",
    "* Retrieved the Astros Dataset artifact\n",
    "* Loaded it into a pandas DataFrame\n",
    "* Created prompt-style text for fine-tuning\n",
    "* Converted it into a Hugging Face Dataset for training\n",
    "\n",
    "✨ Feel free to pause and explore the data before moving forward!\n",
    "\n",
    "Exploring the dataset can help you:\n",
    "\n",
    "* Understand the kinds of questions and answers the model will learn from\n",
    "* Check for any strange patterns, formatting issues, or interesting insights\n",
    "* Discover Easter Eggs\n",
    "\n",
    "🛡️ We've added soft error handling while loading, so if you accidentally modify the dataset file, you'll be warned if any loading issues happen.\n",
    "\n",
    "👉 Quick Tip: You don't need to modify the dataset to proceed, but if you want to explore, you can run things like:\n",
    "\n",
    "```\n",
    "print(df_train.sample(5))\n",
    "print(df_train['question'].apply(len).describe())\n",
    "print(df_train['answer'].apply(len).describe())\n",
    "```\n",
    "\n",
    "When you're ready, move on to loading the model and tokenizing the dataset!"
   ]
  },
  {
   "cell_type": "markdown",
   "id": "7001ed2e",
   "metadata": {
    "id": "7001ed2e"
   },
   "source": [
    "## 🧠 Model Vault: Load & Configure the Neural Core"
   ]
  },
  {
   "cell_type": "markdown",
   "id": "e5caa9d0",
   "metadata": {
    "id": "e5caa9d0"
   },
   "source": [
    "## 🚀 Load Pretrained Model and Prepare Dataset for Fine-Tuning 🌠\n",
    "In this section, we:\n",
    "\n",
    "* Retrieve the Model to Finetune from [W&B Registry FC_FT_Workshop_Model](https://wandb.ai/orgs/FullyConnected-2025-Workshops/registry/model?selectionPath=fullyconnected-2025-workshops%2Fwandb-registry-model%2FFC_FT_Workshop_Model&view=versions) TODO: Update for final version\n",
    "* Select and load a pretrained language model and its tokenizer from Hugging Face.\n",
    "* Format the Astros prompts into tokenized input IDs the model can understand.\n",
    "* Apply padding and truncation to keep sequence lengths manageable.\n",
    "* Split the tokenized dataset into training and validation sets (90% train / 10% validation).\n",
    "* Define a compute_metrics function to track TODO during fine-tuning.\n",
    "\n",
    "✅ All the setup for model loading, tokenization, and data splitting is handled for you — no manual steps required!"
   ]
  },
  {
   "cell_type": "markdown",
   "id": "Sblwkf4QihQZ",
   "metadata": {
    "id": "Sblwkf4QihQZ"
   },
   "source": [
    "### Select Model\n",
    "You will be prompted to select one of the following models\n",
    "\n",
    "*   Option 1: [falcon-rw-1b](https://huggingface.co/tiiuae/falcon-rw-1b)\n",
    "*   Option 2: [TinyLlama](https://huggingface.co/TinyLlama/TinyLlama-1.1B-Chat-v1.0)\n"
   ]
  },
  {
   "cell_type": "code",
   "execution_count": 8,
   "id": "WLBfMTo6h5sr",
   "metadata": {
    "colab": {
     "base_uri": "https://localhost:8080/",
     "height": 626
    },
    "id": "WLBfMTo6h5sr",
    "outputId": "f49cfa52-bd51-4448-a8d6-1682dd608afe"
   },
   "outputs": [
    {
     "name": "stdout",
     "output_type": "stream",
     "text": [
      "\n",
      "Available Models:\n",
      "1. Falcon RW 1B\n",
      "2. TinyLlama 1B\n"
     ]
    },
    {
     "name": "stdin",
     "output_type": "stream",
     "text": [
      "\n",
      "Select a model (1-2):  1\n"
     ]
    },
    {
     "name": "stdout",
     "output_type": "stream",
     "text": [
      "\n",
      "✅ Selected: falcon-rw-1b\n",
      "\n",
      "⬇️ Downloading falcon-rw-1b (version v0) from Weights & Biases...\n"
     ]
    },
    {
     "data": {
      "text/html": [
       "Tracking run with wandb version 0.19.11"
      ],
      "text/plain": [
       "<IPython.core.display.HTML object>"
      ]
     },
     "metadata": {},
     "output_type": "display_data"
    },
    {
     "data": {
      "text/html": [
       "Run data is saved locally in <code>/home/ec2-user/SageMaker/fc25-finetuning/wandb/run-20250523_145927-227ooc4i</code>"
      ],
      "text/plain": [
       "<IPython.core.display.HTML object>"
      ]
     },
     "metadata": {},
     "output_type": "display_data"
    },
    {
     "data": {
      "text/html": [
       "Syncing run <strong><a href='https://wandb.ai/FT-Testing/Astros-FT-Workshop/runs/227ooc4i' target=\"_blank\">fetch_falcon-rw-1b_model</a></strong> to <a href='https://wandb.ai/FT-Testing/Astros-FT-Workshop' target=\"_blank\">Weights & Biases</a> (<a href='https://wandb.me/developer-guide' target=\"_blank\">docs</a>)<br>"
      ],
      "text/plain": [
       "<IPython.core.display.HTML object>"
      ]
     },
     "metadata": {},
     "output_type": "display_data"
    },
    {
     "data": {
      "text/html": [
       " View project at <a href='https://wandb.ai/FT-Testing/Astros-FT-Workshop' target=\"_blank\">https://wandb.ai/FT-Testing/Astros-FT-Workshop</a>"
      ],
      "text/plain": [
       "<IPython.core.display.HTML object>"
      ]
     },
     "metadata": {},
     "output_type": "display_data"
    },
    {
     "data": {
      "text/html": [
       " View run at <a href='https://wandb.ai/FT-Testing/Astros-FT-Workshop/runs/227ooc4i' target=\"_blank\">https://wandb.ai/FT-Testing/Astros-FT-Workshop/runs/227ooc4i</a>"
      ],
      "text/plain": [
       "<IPython.core.display.HTML object>"
      ]
     },
     "metadata": {},
     "output_type": "display_data"
    },
    {
     "name": "stderr",
     "output_type": "stream",
     "text": [
      "\u001b[34m\u001b[1mwandb\u001b[0m: Downloading large artifact FC_FT_Workshop_Models:v0, 2505.10MB. 12 files... \n",
      "\u001b[34m\u001b[1mwandb\u001b[0m:   12 of 12 files downloaded.  \n",
      "Done. 0:0:8.0 (314.3MB/s)\n"
     ]
    },
    {
     "data": {
      "text/html": [],
      "text/plain": [
       "<IPython.core.display.HTML object>"
      ]
     },
     "metadata": {},
     "output_type": "display_data"
    },
    {
     "data": {
      "text/html": [
       " View run <strong style=\"color:#cdcd00\">fetch_falcon-rw-1b_model</strong> at: <a href='https://wandb.ai/FT-Testing/Astros-FT-Workshop/runs/227ooc4i' target=\"_blank\">https://wandb.ai/FT-Testing/Astros-FT-Workshop/runs/227ooc4i</a><br> View project at: <a href='https://wandb.ai/FT-Testing/Astros-FT-Workshop' target=\"_blank\">https://wandb.ai/FT-Testing/Astros-FT-Workshop</a><br>Synced 7 W&B file(s), 0 media file(s), 0 artifact file(s) and 0 other file(s)"
      ],
      "text/plain": [
       "<IPython.core.display.HTML object>"
      ]
     },
     "metadata": {},
     "output_type": "display_data"
    },
    {
     "data": {
      "text/html": [
       "Find logs at: <code>./wandb/run-20250523_145927-227ooc4i/logs</code>"
      ],
      "text/plain": [
       "<IPython.core.display.HTML object>"
      ]
     },
     "metadata": {},
     "output_type": "display_data"
    },
    {
     "name": "stdout",
     "output_type": "stream",
     "text": [
      "✅ Model saved to: models/falcon-rw-1b_v0\n",
      "✅ Model downloaded successfully!\n",
      "\n",
      "📦 Loading model from: models/falcon-rw-1b_v0\n",
      "\n",
      "Step 1: Loading tokenizer...\n",
      "✅ Tokenizer loaded successfully!\n",
      "\n",
      "Step 2: Configuring QLoRA...\n",
      "Loading model with 4-bit quantization...\n"
     ]
    },
    {
     "name": "stderr",
     "output_type": "stream",
     "text": [
      "You are using an old version of the checkpointing format that is deprecated (We will also silently ignore `gradient_checkpointing_kwargs` in case you passed it).Please update to the new format on your modeling file. To use the new format, you need to completely remove the definition of the method `_set_gradient_checkpointing` in your model.\n"
     ]
    },
    {
     "name": "stdout",
     "output_type": "stream",
     "text": [
      "trainable params: 12,582,912 || all params: 1,324,208,128 || trainable%: 0.9502\n",
      "✅ Model loaded with QLoRA successfully!\n"
     ]
    }
   ],
   "source": [
    "model, tokenizer, model_name = get_model_from_wandb(WANDB_ENTITY, WANDB_PROJECT_NAME)\n",
    "\n",
    "tokenizer.pad_token = tokenizer.eos_token\n",
    "model.config.pad_token_id = model.config.eos_token_id"
   ]
  },
  {
   "cell_type": "markdown",
   "id": "26597b6b",
   "metadata": {
    "id": "26597b6b"
   },
   "source": [
    "✅ Model and tokenizer successfully loaded from the artifact!\n",
    "\n",
    "Next, we'll make a few adjustments to ensure the model handles padding correctly,\n",
    "and then prepare our dataset for training by tokenizing the input prompts.\n"
   ]
  },
  {
   "cell_type": "markdown",
   "id": "1dff0e01",
   "metadata": {
    "id": "1dff0e01"
   },
   "source": [
    "## 🔄 Tokenize & Split: Format Data for Finetuning"
   ]
  },
  {
   "cell_type": "markdown",
   "id": "c6780204",
   "metadata": {
    "id": "c6780204"
   },
   "source": [
    "#### Load the datasets\n",
    "\n",
    "You can modify how our training data is passed to our training script to finetune the model. Make sure to analyze the data so you can select an appropriate **Sample Size** and  **Train/Test split** for the finetuning process.\n",
    "\n",
    "TO-DO: Update the values below for your first run. You can come back and try it with new values again."
   ]
  },
  {
   "cell_type": "code",
   "execution_count": 11,
   "id": "61faf47c",
   "metadata": {
    "colab": {
     "base_uri": "https://localhost:8080/",
     "height": 98,
     "referenced_widgets": [
      "6c83dd832f784383aa67a7bac1c81722",
      "02b048fcb50c451d89964ee93405cb93",
      "f7d0f2a7a7df4589b2ff1ea0562b8ae5",
      "ce5267e4265c49b08e066b4a5806e8cf",
      "c7a0ffa43bfd45bb82a110520ef065c6",
      "673061059cb64053896079a0de7d3458",
      "908c81b282f64785b4fa729646b00c98",
      "1173b7a21b3a4792bda7baa084fc5147",
      "b45860c163b142189b6eb2eaacdcc1f4",
      "9f3f09b8e4bc411880e0d389c2043a88",
      "da44f8d632714e7d89b2222686eafa5f",
      "c6c6c1949f1b4bbc9624647c4640dff9",
      "52c005c417a84f9aa9604239dd62197e",
      "f5926d20d7dc4bc5a784126f57867a59",
      "49be6b548baf43c5bcd1091e2bfd56f6",
      "ebfc99985a16470e8e49c9b788c18302",
      "3b119211b51a4c1e847bf9c8e2fbd28c",
      "ad5f99fdfdd942fab037f03f0f6c9107",
      "6fc3ad2df4a64a2aaba0d4567e3a9277",
      "ef60343739754ac7a5d61a82749f2f30",
      "e1ec82f4ca08434b85d3329bad4bf301",
      "ed9744b33f834485b653da828cf72026"
     ]
    },
    "id": "61faf47c",
    "outputId": "a6bde064-b7fb-4d79-c860-14a63d123c99"
   },
   "outputs": [
    {
     "data": {
      "application/vnd.jupyter.widget-view+json": {
       "model_id": "145c4aa820bf4075b3daca1792c8cfe2",
       "version_major": 2,
       "version_minor": 0
      },
      "text/plain": [
       "Map:   0%|          | 0/1440 [00:00<?, ? examples/s]"
      ]
     },
     "metadata": {},
     "output_type": "display_data"
    },
    {
     "data": {
      "application/vnd.jupyter.widget-view+json": {
       "model_id": "85ff373071ae49fb850778382ba40533",
       "version_major": 2,
       "version_minor": 0
      },
      "text/plain": [
       "Map:   0%|          | 0/160 [00:00<?, ? examples/s]"
      ]
     },
     "metadata": {},
     "output_type": "display_data"
    },
    {
     "name": "stdout",
     "output_type": "stream",
     "text": [
      "✅ Tokenization applied to Training & Evaluation Datasets successfully!\n"
     ]
    }
   ],
   "source": [
    "training_sample = training_dataset.shuffle(seed=42).select(range(1000)) # chosse between 100 and 1600 samples\n",
    "\n",
    "train_test_split = 0.1 # choose a float value between 0 and 1\n",
    "\n",
    "train_dataset, eval_dataset = tokenized_train_test(training_dataset, train_test_split, tokenizer)"
   ]
  },
  {
   "cell_type": "markdown",
   "id": "e08b86f5",
   "metadata": {
    "id": "e08b86f5"
   },
   "source": [
    "## ⚙️ Training Command Center\n",
    "Set training arguments to guide your model's learning trajectory."
   ]
  },
  {
   "cell_type": "markdown",
   "id": "5e65c01f",
   "metadata": {
    "id": "5e65c01f"
   },
   "source": [
    "## 🛰️ Training Arguments (Where You Fine-Tune Settings) 🌙\n",
    "\n",
    "This is where you'll do most of your experimentation! 🎯\n",
    "\n",
    "The `TrainingArguments` object controls how your model is fine-tuned, including:\n",
    "\n",
    "* Batch size\n",
    "* Number of epochs\n",
    "* Learning rate\n",
    "* Warmup steps\n",
    "* Mixed precision (fp16) for faster training\n",
    "* Checkpoint saving\n",
    "* Reporting to Weights & Biases\n",
    "\n",
    "You can modify the hyperparameters here to see how different settings impact model performance.\n",
    "\n",
    "🔥 Pro Tip: TODO INSERT SOME TIPS\n"
   ]
  },
  {
   "cell_type": "code",
   "execution_count": 12,
   "id": "013c0d65",
   "metadata": {
    "id": "013c0d65"
   },
   "outputs": [],
   "source": [
    "from transformers import TrainingArguments\n",
    "\n",
    "training_args = TrainingArguments(\n",
    "    run_name=f\"fine-tuning-{model_name}-qlora\",\n",
    "    output_dir=\"./results\",\n",
    "    num_train_epochs=5, #start with 3 and go upto 10 epochs for better results\n",
    "    per_device_train_batch_size=32,\n",
    "    per_device_eval_batch_size=4,\n",
    "    dataloader_num_workers=8,\n",
    "    gradient_accumulation_steps=4,\n",
    "    warmup_ratio=0.1,\n",
    "    weight_decay=0.01,\n",
    "    logging_dir=\"./logs\",\n",
    "    logging_steps=10,\n",
    "    do_train=True,\n",
    "    do_eval=True,\n",
    "    fp16=True,\n",
    "    bf16=False,\n",
    "    gradient_checkpointing=True, #Choose to store the full forward-pass activations in GPU RAM\n",
    "    group_by_length=True,\n",
    "    report_to=[\"wandb\"],\n",
    "    remove_unused_columns=True,\n",
    "    dataloader_pin_memory=True,\n",
    "    optim=\"adamw_torch\", #See https://huggingface.co/docs/transformers/v4.51.3/en/perf_train_gpu_one#optimizers\n",
    "    learning_rate=2e-3,\n",
    "    lr_scheduler_type=\"cosine\", # See https://huggingface.co/docs/transformers/en/main_classes/optimizer_schedules#transformers.SchedulerType\n",
    "    auto_find_batch_size=False,\n",
    "    eval_strategy=\"epoch\",\n",
    "    save_strategy=\"epoch\",\n",
    "    save_total_limit=5,\n",
    "    load_best_model_at_end=True,\n",
    "    # metric_for_best_model=\"perplexity\",\n",
    "    metric_for_best_model=\"eval_loss\",\n",
    "    logging_strategy=\"steps\",\n",
    "    label_names=[\"labels\"],\n",
    ")\n"
   ]
  },
  {
   "cell_type": "markdown",
   "id": "a9dcc2dd",
   "metadata": {
    "id": "a9dcc2dd"
   },
   "source": [
    "## 🛰️ Engage Training Tracker\n",
    "Launch the model and track training live with W&B."
   ]
  },
  {
   "cell_type": "markdown",
   "id": "7faff1ee",
   "metadata": {
    "id": "7faff1ee"
   },
   "source": [
    "## 🔭 Initialize Trainer, Train, and Save 🌎\n",
    "\n",
    "In this final section:\n",
    "\n",
    "* We initialize the Trainer with:\n",
    "  * The model\n",
    "  * The datasets (train/test splits)\n",
    "  * The training arguments\n",
    "  * A data collator for language modeling\n",
    "  * Our compute_metrics function to calculate TODO\n",
    "\n",
    "* We start training by calling trainer.train().\n",
    "* We save the fine-tuned model and tokenizer locally.\n",
    "* We finish the W&B run to close the logging cleanly.\n",
    "\n",
    "🧠 Reminder: After training finishes, your fine-tuned model will be available in your local runtime — you can upload it back to W&B or Hugging Face later!\n",
    "\n",
    "🚨 Training Ahead: Be ready for 10-15 min runtimes with the default configs!\n"
   ]
  },
  {
   "cell_type": "markdown",
   "id": "CiGIHshY1c0m",
   "metadata": {
    "id": "CiGIHshY1c0m"
   },
   "source": [
    "Running into the following?\n",
    "\n",
    "> AttributeError: `AcceleratorState` object has no attribute `distributed_type`\n",
    "\n",
    "This happens if `AcceleratorState._reset_state()` was called and an `Accelerator` or `PartialState` was not reinitialized.\n",
    "\n",
    "To Fix Run the following in a new cell before reinitalizing your trainer\n",
    "\n",
    "```\n",
    "from accelerate.state import AcceleratorState\n",
    "AcceleratorState._reset_state()\n",
    "```\n",
    "\n",
    "\n"
   ]
  },
  {
   "cell_type": "code",
   "execution_count": 13,
   "id": "w1DD36UhE0QJ",
   "metadata": {
    "id": "w1DD36UhE0QJ"
   },
   "outputs": [],
   "source": [
    "# from accelerate.state import AcceleratorState\n",
    "# AcceleratorState._reset_state()"
   ]
  },
  {
   "cell_type": "code",
   "execution_count": 14,
   "id": "050c4bfd",
   "metadata": {
    "colab": {
     "base_uri": "https://localhost:8080/",
     "height": 654
    },
    "id": "050c4bfd",
    "outputId": "eba166d0-e6fd-4e57-a776-0d578eb94695"
   },
   "outputs": [
    {
     "name": "stderr",
     "output_type": "stream",
     "text": [
      "You are using an old version of the checkpointing format that is deprecated (We will also silently ignore `gradient_checkpointing_kwargs` in case you passed it).Please update to the new format on your modeling file. To use the new format, you need to completely remove the definition of the method `_set_gradient_checkpointing` in your model.\n"
     ]
    }
   ],
   "source": [
    "#Configure model for training\n",
    "model.config.use_cache = False  # Disable cache during training\n",
    "\n",
    "# Set label names for PEFT model\n",
    "model.config.label_names = [\"labels\"]\n",
    "\n",
    "# Initialize trainer with modified configuration\n",
    "trainer = Trainer(\n",
    "    model=model,\n",
    "    args=training_args,\n",
    "    train_dataset=train_dataset,\n",
    "    eval_dataset=eval_dataset,\n",
    "    data_collator=DataCollatorForLanguageModeling(\n",
    "        tokenizer=tokenizer,\n",
    "        mlm=False,\n",
    "        pad_to_multiple_of=8  # Add padding to multiple of 8 for better performance\n",
    "    ),\n",
    "    callbacks=[EarlyStoppingCallback(early_stopping_patience=3)]\n",
    "    #compute_metrics=compute_perpexity, #If monitoring additional metric(s) can set this argument accordingly to your compute functions\n",
    ")\n",
    "\n",
    "# Enable gradient checkpointing with the new format\n",
    "if hasattr(model, \"enable_input_require_grads\"):\n",
    "    model.enable_input_require_grads()\n",
    "if hasattr(model, \"gradient_checkpointing_enable\"):\n",
    "    model.gradient_checkpointing_enable()\n",
    "\n",
    "#Working Idea - Launch training via animation - #TODO Figure out how to pipe the ignite button or just write simple message to run next cell to train model\n",
    "def ignite_training():\n",
    "    # This function will be called by the \"Ignite\" button\n",
    "    print(\"🚀 Starting training process...\")\n",
    "\n",
    "    # Your existing training code\n",
    "    run = wandb.init(entity=WANDB_ENTITY,\n",
    "                    project=WANDB_PROJECT_NAME,\n",
    "                    job_type=\"finetuning_job\",\n",
    "                    # name=f\"fine_tune_{model.__class__.__name__}\"\n",
    "                     name = f\"fine_tune_{model_name}\"\n",
    "                    )\n",
    "    train_output = trainer.train()\n",
    "\n",
    "    wandb.finish()\n",
    "\n",
    "    print(\"✅ Training complete!\")\n",
    "    return train_output\n",
    "\n",
    "#%run {animate_dir}/launch_sequence.py\n",
    "#launch_sequence(training_args)"
   ]
  },
  {
   "cell_type": "markdown",
   "id": "f7bc5c7d",
   "metadata": {
    "id": "f7bc5c7d"
   },
   "source": [
    "## ⚙ Now we kick off the training process ⚙"
   ]
  },
  {
   "cell_type": "code",
   "execution_count": 15,
   "id": "93378c7e",
   "metadata": {
    "colab": {
     "base_uri": "https://localhost:8080/",
     "height": 1000
    },
    "id": "93378c7e",
    "outputId": "85122374-7278-468f-82f2-958246345a2a"
   },
   "outputs": [
    {
     "data": {
      "text/html": [
       "Tracking run with wandb version 0.19.11"
      ],
      "text/plain": [
       "<IPython.core.display.HTML object>"
      ]
     },
     "metadata": {},
     "output_type": "display_data"
    },
    {
     "data": {
      "text/html": [
       "Run data is saved locally in <code>/home/ec2-user/SageMaker/fc25-finetuning/wandb/run-20250523_150018-c46m1je3</code>"
      ],
      "text/plain": [
       "<IPython.core.display.HTML object>"
      ]
     },
     "metadata": {},
     "output_type": "display_data"
    },
    {
     "data": {
      "text/html": [
       "Syncing run <strong><a href='https://wandb.ai/FT-Testing/Astros-FT-Workshop/runs/c46m1je3' target=\"_blank\">fine_tune_falcon-rw-1b</a></strong> to <a href='https://wandb.ai/FT-Testing/Astros-FT-Workshop' target=\"_blank\">Weights & Biases</a> (<a href='https://wandb.me/developer-guide' target=\"_blank\">docs</a>)<br>"
      ],
      "text/plain": [
       "<IPython.core.display.HTML object>"
      ]
     },
     "metadata": {},
     "output_type": "display_data"
    },
    {
     "data": {
      "text/html": [
       " View project at <a href='https://wandb.ai/FT-Testing/Astros-FT-Workshop' target=\"_blank\">https://wandb.ai/FT-Testing/Astros-FT-Workshop</a>"
      ],
      "text/plain": [
       "<IPython.core.display.HTML object>"
      ]
     },
     "metadata": {},
     "output_type": "display_data"
    },
    {
     "data": {
      "text/html": [
       " View run at <a href='https://wandb.ai/FT-Testing/Astros-FT-Workshop/runs/c46m1je3' target=\"_blank\">https://wandb.ai/FT-Testing/Astros-FT-Workshop/runs/c46m1je3</a>"
      ],
      "text/plain": [
       "<IPython.core.display.HTML object>"
      ]
     },
     "metadata": {},
     "output_type": "display_data"
    },
    {
     "name": "stderr",
     "output_type": "stream",
     "text": [
      "You are using an old version of the checkpointing format that is deprecated (We will also silently ignore `gradient_checkpointing_kwargs` in case you passed it).Please update to the new format on your modeling file. To use the new format, you need to completely remove the definition of the method `_set_gradient_checkpointing` in your model.\n",
      "/home/ec2-user/anaconda3/envs/python3/lib/python3.10/site-packages/torch/_dynamo/eval_frame.py:745: UserWarning: torch.utils.checkpoint: the use_reentrant parameter should be passed explicitly. In version 2.5 we will raise an exception if use_reentrant is not passed. use_reentrant=False is recommended, but if you need to preserve the current default behavior, you can pass use_reentrant=True. Refer to docs for more details on the differences between the two variants.\n",
      "  return fn(*args, **kwargs)\n"
     ]
    },
    {
     "data": {
      "text/html": [
       "\n",
       "    <div>\n",
       "      \n",
       "      <progress value='60' max='60' style='width:300px; height:20px; vertical-align: middle;'></progress>\n",
       "      [60/60 28:19, Epoch 5/5]\n",
       "    </div>\n",
       "    <table border=\"1\" class=\"dataframe\">\n",
       "  <thead>\n",
       " <tr style=\"text-align: left;\">\n",
       "      <th>Epoch</th>\n",
       "      <th>Training Loss</th>\n",
       "      <th>Validation Loss</th>\n",
       "    </tr>\n",
       "  </thead>\n",
       "  <tbody>\n",
       "    <tr>\n",
       "      <td>1</td>\n",
       "      <td>2.556300</td>\n",
       "      <td>2.398673</td>\n",
       "    </tr>\n",
       "    <tr>\n",
       "      <td>2</td>\n",
       "      <td>2.123400</td>\n",
       "      <td>2.114435</td>\n",
       "    </tr>\n",
       "    <tr>\n",
       "      <td>3</td>\n",
       "      <td>1.761100</td>\n",
       "      <td>2.004508</td>\n",
       "    </tr>\n",
       "    <tr>\n",
       "      <td>4</td>\n",
       "      <td>1.519300</td>\n",
       "      <td>2.010563</td>\n",
       "    </tr>\n",
       "    <tr>\n",
       "      <td>5</td>\n",
       "      <td>1.206900</td>\n",
       "      <td>2.026414</td>\n",
       "    </tr>\n",
       "  </tbody>\n",
       "</table><p>"
      ],
      "text/plain": [
       "<IPython.core.display.HTML object>"
      ]
     },
     "metadata": {},
     "output_type": "display_data"
    },
    {
     "name": "stderr",
     "output_type": "stream",
     "text": [
      "/home/ec2-user/anaconda3/envs/python3/lib/python3.10/site-packages/torch/_dynamo/eval_frame.py:745: UserWarning: torch.utils.checkpoint: the use_reentrant parameter should be passed explicitly. In version 2.5 we will raise an exception if use_reentrant is not passed. use_reentrant=False is recommended, but if you need to preserve the current default behavior, you can pass use_reentrant=True. Refer to docs for more details on the differences between the two variants.\n",
      "  return fn(*args, **kwargs)\n",
      "/home/ec2-user/anaconda3/envs/python3/lib/python3.10/site-packages/torch/_dynamo/eval_frame.py:745: UserWarning: torch.utils.checkpoint: the use_reentrant parameter should be passed explicitly. In version 2.5 we will raise an exception if use_reentrant is not passed. use_reentrant=False is recommended, but if you need to preserve the current default behavior, you can pass use_reentrant=True. Refer to docs for more details on the differences between the two variants.\n",
      "  return fn(*args, **kwargs)\n",
      "/home/ec2-user/anaconda3/envs/python3/lib/python3.10/site-packages/torch/_dynamo/eval_frame.py:745: UserWarning: torch.utils.checkpoint: the use_reentrant parameter should be passed explicitly. In version 2.5 we will raise an exception if use_reentrant is not passed. use_reentrant=False is recommended, but if you need to preserve the current default behavior, you can pass use_reentrant=True. Refer to docs for more details on the differences between the two variants.\n",
      "  return fn(*args, **kwargs)\n",
      "/home/ec2-user/anaconda3/envs/python3/lib/python3.10/site-packages/torch/_dynamo/eval_frame.py:745: UserWarning: torch.utils.checkpoint: the use_reentrant parameter should be passed explicitly. In version 2.5 we will raise an exception if use_reentrant is not passed. use_reentrant=False is recommended, but if you need to preserve the current default behavior, you can pass use_reentrant=True. Refer to docs for more details on the differences between the two variants.\n",
      "  return fn(*args, **kwargs)\n"
     ]
    },
    {
     "data": {
      "text/html": [],
      "text/plain": [
       "<IPython.core.display.HTML object>"
      ]
     },
     "metadata": {},
     "output_type": "display_data"
    },
    {
     "data": {
      "text/html": [
       "<br>    <style><br>        .wandb-row {<br>            display: flex;<br>            flex-direction: row;<br>            flex-wrap: wrap;<br>            justify-content: flex-start;<br>            width: 100%;<br>        }<br>        .wandb-col {<br>            display: flex;<br>            flex-direction: column;<br>            flex-basis: 100%;<br>            flex: 1;<br>            padding: 10px;<br>        }<br>    </style><br><div class=\"wandb-row\"><div class=\"wandb-col\"><h3>Run history:</h3><br/><table class=\"wandb\"><tr><td>eval/loss</td><td>█▃▁▁▁</td></tr><tr><td>eval/runtime</td><td>█▁▃▅▅</td></tr><tr><td>eval/samples_per_second</td><td>▁█▆▄▄</td></tr><tr><td>eval/steps_per_second</td><td>▁█▇▃▅</td></tr><tr><td>train/epoch</td><td>▁▁▂▃▄▅▅▆▇███</td></tr><tr><td>train/global_step</td><td>▁▁▂▃▄▅▅▆▇███</td></tr><tr><td>train/grad_norm</td><td>█▃▂▂▂▁</td></tr><tr><td>train/learning_rate</td><td>█▇▅▃▂▁</td></tr><tr><td>train/loss</td><td>█▆▄▃▂▁</td></tr></table><br/></div><div class=\"wandb-col\"><h3>Run summary:</h3><br/><table class=\"wandb\"><tr><td>eval/loss</td><td>2.02641</td></tr><tr><td>eval/runtime</td><td>13.9811</td></tr><tr><td>eval/samples_per_second</td><td>11.444</td></tr><tr><td>eval/steps_per_second</td><td>2.861</td></tr><tr><td>total_flos</td><td>2.70106701594624e+16</td></tr><tr><td>train/epoch</td><td>5</td></tr><tr><td>train/global_step</td><td>60</td></tr><tr><td>train/grad_norm</td><td>0.16845</td></tr><tr><td>train/learning_rate</td><td>0.0</td></tr><tr><td>train/loss</td><td>1.2069</td></tr><tr><td>train_loss</td><td>1.75021</td></tr><tr><td>train_runtime</td><td>1729.5334</td></tr><tr><td>train_samples_per_second</td><td>4.163</td></tr><tr><td>train_steps_per_second</td><td>0.035</td></tr></table><br/></div></div>"
      ],
      "text/plain": [
       "<IPython.core.display.HTML object>"
      ]
     },
     "metadata": {},
     "output_type": "display_data"
    },
    {
     "data": {
      "text/html": [
       " View run <strong style=\"color:#cdcd00\">fine_tune_falcon-rw-1b</strong> at: <a href='https://wandb.ai/FT-Testing/Astros-FT-Workshop/runs/c46m1je3' target=\"_blank\">https://wandb.ai/FT-Testing/Astros-FT-Workshop/runs/c46m1je3</a><br> View project at: <a href='https://wandb.ai/FT-Testing/Astros-FT-Workshop' target=\"_blank\">https://wandb.ai/FT-Testing/Astros-FT-Workshop</a><br>Synced 7 W&B file(s), 0 media file(s), 0 artifact file(s) and 0 other file(s)"
      ],
      "text/plain": [
       "<IPython.core.display.HTML object>"
      ]
     },
     "metadata": {},
     "output_type": "display_data"
    },
    {
     "data": {
      "text/html": [
       "Find logs at: <code>./wandb/run-20250523_150018-c46m1je3/logs</code>"
      ],
      "text/plain": [
       "<IPython.core.display.HTML object>"
      ]
     },
     "metadata": {},
     "output_type": "display_data"
    }
   ],
   "source": [
    "#Train\n",
    "run = wandb.init(entity=WANDB_ENTITY,\n",
    "                  project=WANDB_PROJECT_NAME,\n",
    "                  job_type=\"finetuning_job\",\n",
    "                  # name=f\"fine_tune_{model.__class__.__name__}\"\n",
    "                  name = f\"fine_tune_{model_name}\"\n",
    "                  )\n",
    "train_output = trainer.train()\n",
    "\n",
    "wandb.finish()\n",
    "\n",
    "# launch_sequence(training_args) #TODO Test this in Sagemaker - Otherwise Remove Ignite"
   ]
  },
  {
   "cell_type": "markdown",
   "id": "00f4c42f",
   "metadata": {
    "id": "00f4c42f"
   },
   "source": [
    "## 💾 Save & Upload\n",
    "Preserve your fine-tuned model as a W&B artifact."
   ]
  },
  {
   "cell_type": "markdown",
   "id": "6b8e32a1",
   "metadata": {
    "id": "6b8e32a1"
   },
   "source": [
    "We will now save this model to W&B. You will need the artifact refernce for this model to get points for completing the fine tuning section."
   ]
  },
  {
   "cell_type": "markdown",
   "id": "1c5891f1",
   "metadata": {
    "id": "1c5891f1"
   },
   "source": [
    "Tracking your model in W&B can be really helpful:\n",
    "\n",
    "- You can now share this model with your team and beyond\n",
    "- W&B creates a lineage map of your model so you can see the full model lifecycle dataset->training->final state"
   ]
  },
  {
   "cell_type": "code",
   "execution_count": 16,
   "id": "f428cdbc",
   "metadata": {
    "colab": {
     "base_uri": "https://localhost:8080/",
     "height": 277
    },
    "id": "f428cdbc",
    "outputId": "4798665a-7613-4a82-eed3-2b67ba057f96"
   },
   "outputs": [
    {
     "data": {
      "text/html": [
       "Tracking run with wandb version 0.19.11"
      ],
      "text/plain": [
       "<IPython.core.display.HTML object>"
      ]
     },
     "metadata": {},
     "output_type": "display_data"
    },
    {
     "data": {
      "text/html": [
       "Run data is saved locally in <code>/home/ec2-user/SageMaker/fc25-finetuning/wandb/run-20250523_162928-4578dxh1</code>"
      ],
      "text/plain": [
       "<IPython.core.display.HTML object>"
      ]
     },
     "metadata": {},
     "output_type": "display_data"
    },
    {
     "data": {
      "text/html": [
       "Syncing run <strong><a href='https://wandb.ai/FT-Testing/Astros-FT-Workshop/runs/4578dxh1' target=\"_blank\">FT-Best-Model-Upload</a></strong> to <a href='https://wandb.ai/FT-Testing/Astros-FT-Workshop' target=\"_blank\">Weights & Biases</a> (<a href='https://wandb.me/developer-guide' target=\"_blank\">docs</a>)<br>"
      ],
      "text/plain": [
       "<IPython.core.display.HTML object>"
      ]
     },
     "metadata": {},
     "output_type": "display_data"
    },
    {
     "data": {
      "text/html": [
       " View project at <a href='https://wandb.ai/FT-Testing/Astros-FT-Workshop' target=\"_blank\">https://wandb.ai/FT-Testing/Astros-FT-Workshop</a>"
      ],
      "text/plain": [
       "<IPython.core.display.HTML object>"
      ]
     },
     "metadata": {},
     "output_type": "display_data"
    },
    {
     "data": {
      "text/html": [
       " View run at <a href='https://wandb.ai/FT-Testing/Astros-FT-Workshop/runs/4578dxh1' target=\"_blank\">https://wandb.ai/FT-Testing/Astros-FT-Workshop/runs/4578dxh1</a>"
      ],
      "text/plain": [
       "<IPython.core.display.HTML object>"
      ]
     },
     "metadata": {},
     "output_type": "display_data"
    },
    {
     "name": "stderr",
     "output_type": "stream",
     "text": [
      "\u001b[34m\u001b[1mwandb\u001b[0m: Adding directory to artifact (./best_model)... Done. 0.1s\n"
     ]
    },
    {
     "data": {
      "text/html": [],
      "text/plain": [
       "<IPython.core.display.HTML object>"
      ]
     },
     "metadata": {},
     "output_type": "display_data"
    },
    {
     "data": {
      "text/html": [
       " View run <strong style=\"color:#cdcd00\">FT-Best-Model-Upload</strong> at: <a href='https://wandb.ai/FT-Testing/Astros-FT-Workshop/runs/4578dxh1' target=\"_blank\">https://wandb.ai/FT-Testing/Astros-FT-Workshop/runs/4578dxh1</a><br> View project at: <a href='https://wandb.ai/FT-Testing/Astros-FT-Workshop' target=\"_blank\">https://wandb.ai/FT-Testing/Astros-FT-Workshop</a><br>Synced 7 W&B file(s), 0 media file(s), 4 artifact file(s) and 0 other file(s)"
      ],
      "text/plain": [
       "<IPython.core.display.HTML object>"
      ]
     },
     "metadata": {},
     "output_type": "display_data"
    },
    {
     "data": {
      "text/html": [
       "Find logs at: <code>./wandb/run-20250523_162928-4578dxh1/logs</code>"
      ],
      "text/plain": [
       "<IPython.core.display.HTML object>"
      ]
     },
     "metadata": {},
     "output_type": "display_data"
    }
   ],
   "source": [
    "#Saving and uploading best model - working draft\n",
    "trainer.save_model(f\"./best_model/{type(model.base_model.model).__name__}\")\n",
    "tokenizer.save_pretrained(f\"./best_model/{type(model.base_model.model).__name__}\")\n",
    "\n",
    "run = wandb.init(project=WANDB_PROJECT_NAME,\n",
    "                 entity=WANDB_ENTITY,\n",
    "                 job_type=\"FT-Workshop-Finetuning-Best-Model-Upload\",\n",
    "                 name=\"FT-Best-Model-Upload\")\n",
    "\n",
    "artifact = wandb.Artifact(\n",
    "    name=f\"{WORKSHOP_TEAM_NAME}-ft-best-model-{type(model.base_model.model).__name__}\",\n",
    "    type=\"model\",\n",
    "    description=\"\"\"Best FineTuned model from the Astros-FT-Workshop.\"\"\"\n",
    ")\n",
    "\n",
    "artifact.add_dir(local_path=\"./best_model\")\n",
    "\n",
    "logged_artifact = run.log_artifact(artifact)\n",
    "\n",
    "run.link_artifact(\n",
    "  artifact=logged_artifact,\n",
    "  target_path=\"wandb-registry-model/FC_FT_Workshop_FineTuned_Models\"\n",
    ")\n",
    "\n",
    "run.finish()"
   ]
  },
  {
   "cell_type": "markdown",
   "id": "2e90dd70",
   "metadata": {
    "id": "2e90dd70"
   },
   "source": [
    "## ✅ Mission Checkpoint: Model Finetuned\n",
    "\n",
    "Congratulations, Architect! You've:\n",
    "- Loaded and prepped your training dataset ✅\n",
    "- Configured a foundational model ✅\n",
    "- Finetuned it with parameter-efficient methods ✅\n",
    "- Logged your training runs and saved the final model to Weights & Biases ✅\n",
    "\n",
    "Your model is now part of your mission's neural infrastructure.\n",
    "\n",
    "Next, we prepare to test and evaluate. But first, a quick system check..."
   ]
  },
  {
   "cell_type": "markdown",
   "id": "8e953f25",
   "metadata": {
    "id": "8e953f25"
   },
   "source": [
    "## 🧰 Systems Maintenance Bay: Utilities\n",
    "\n",
    "Before testing, it's wise to flush memory and check your hardware status. Use these utilities to prepare the environment.\n",
    "\n",
    "Just like a good engineer, make sure the ship's neural bays are cleared and ready."
   ]
  },
  {
   "cell_type": "markdown",
   "id": "b761f2d7",
   "metadata": {
    "id": "b761f2d7"
   },
   "source": [
    "## Utilities 🧰"
   ]
  },
  {
   "cell_type": "code",
   "execution_count": 34,
   "id": "233f922d",
   "metadata": {
    "id": "233f922d"
   },
   "outputs": [
    {
     "name": "stdout",
     "output_type": "stream",
     "text": [
      "cannot release memory\n"
     ]
    }
   ],
   "source": [
    "# -- Flush out GPU memory - when required - may require restarting the notebook\n",
    "import gc, torch\n",
    "\n",
    "try:\n",
    "    del trainer\n",
    "except: print(\"cannot release memory\")\n",
    "try:\n",
    "    del model\n",
    "except: print(\"cannot release memory\")\n",
    "try:\n",
    "    del tokenizer\n",
    "except: print(\"cannot release memory\")\n",
    "\n",
    "gc.collect()\n",
    "torch.cuda.empty_cache()\n",
    "torch.cuda.ipc_collect()\n",
    "\n",
    "wandb.finish()"
   ]
  },
  {
   "cell_type": "code",
   "execution_count": 18,
   "id": "a767a0d9",
   "metadata": {
    "colab": {
     "base_uri": "https://localhost:8080/"
    },
    "id": "a767a0d9",
    "outputId": "8e81b801-5015-4fbd-a287-5e0966f7e6f5"
   },
   "outputs": [
    {
     "name": "stdout",
     "output_type": "stream",
     "text": [
      "Fri May 23 16:29:40 2025       \n",
      "+-----------------------------------------------------------------------------------------+\n",
      "| NVIDIA-SMI 550.163.01             Driver Version: 550.163.01     CUDA Version: 12.4     |\n",
      "|-----------------------------------------+------------------------+----------------------+\n",
      "| GPU  Name                 Persistence-M | Bus-Id          Disp.A | Volatile Uncorr. ECC |\n",
      "| Fan  Temp   Perf          Pwr:Usage/Cap |           Memory-Usage | GPU-Util  Compute M. |\n",
      "|                                         |                        |               MIG M. |\n",
      "|=========================================+========================+======================|\n",
      "|   0  NVIDIA A10G                    On  |   00000000:00:1B.0 Off |                    0 |\n",
      "|  0%   30C    P0             59W /  300W |     299MiB /  23028MiB |      0%      Default |\n",
      "|                                         |                        |                  N/A |\n",
      "+-----------------------------------------+------------------------+----------------------+\n",
      "|   1  NVIDIA A10G                    On  |   00000000:00:1C.0 Off |                    0 |\n",
      "|  0%   30C    P0             63W /  300W |     471MiB /  23028MiB |      0%      Default |\n",
      "|                                         |                        |                  N/A |\n",
      "+-----------------------------------------+------------------------+----------------------+\n",
      "|   2  NVIDIA A10G                    On  |   00000000:00:1D.0 Off |                    0 |\n",
      "|  0%   30C    P0             61W /  300W |     709MiB /  23028MiB |      0%      Default |\n",
      "|                                         |                        |                  N/A |\n",
      "+-----------------------------------------+------------------------+----------------------+\n",
      "|   3  NVIDIA A10G                    On  |   00000000:00:1E.0 Off |                    0 |\n",
      "|  0%   30C    P0             61W /  300W |    1091MiB /  23028MiB |      0%      Default |\n",
      "|                                         |                        |                  N/A |\n",
      "+-----------------------------------------+------------------------+----------------------+\n",
      "                                                                                         \n",
      "+-----------------------------------------------------------------------------------------+\n",
      "| Processes:                                                                              |\n",
      "|  GPU   GI   CI        PID   Type   Process name                              GPU Memory |\n",
      "|        ID   ID                                                               Usage      |\n",
      "|=========================================================================================|\n",
      "|    0   N/A  N/A     14364      C   ...r/anaconda3/envs/python3/bin/python        290MiB |\n",
      "|    1   N/A  N/A     14364      C   ...r/anaconda3/envs/python3/bin/python        462MiB |\n",
      "|    2   N/A  N/A     14364      C   ...r/anaconda3/envs/python3/bin/python        700MiB |\n",
      "|    3   N/A  N/A     14364      C   ...r/anaconda3/envs/python3/bin/python       1082MiB |\n",
      "+-----------------------------------------------------------------------------------------+\n"
     ]
    }
   ],
   "source": [
    "!nvidia-smi"
   ]
  },
  {
   "cell_type": "markdown",
   "id": "5d0f71a7",
   "metadata": {
    "id": "5d0f71a7"
   },
   "source": [
    "## 🧪 Testing the Neural Core\n",
    "\n",
    "Now that your model is trained and uploaded, it’s time to test your ship’s new neural core.\n",
    "\n",
    "You’ll load the fine-tuned model and run test prompts to ensure it responds with precision and depth—critical for deep-space operations.\n",
    "\n",
    "We’ve equipped you with a call function wrapped in `Weave`, our GenAI interface and telemetry layer."
   ]
  },
  {
   "cell_type": "markdown",
   "id": "bf60a175",
   "metadata": {
    "id": "bf60a175"
   },
   "source": [
    "# 🔧 Testing our model 🪛\n",
    "\n",
    "Let's start by creating some helper functions to load and call the model we just trained."
   ]
  },
  {
   "cell_type": "markdown",
   "id": "eefdfa6c",
   "metadata": {
    "id": "eefdfa6c"
   },
   "source": [
    "Since we created an adapter during the finetuning process, our load model function loads the original model along with our adapter using PEFT."
   ]
  },
  {
   "cell_type": "markdown",
   "id": "0e8abc80",
   "metadata": {
    "id": "0e8abc80"
   },
   "source": [
    "## 🛰️ Introducing Weave: Your AI Telemetry and Evaluation Suite\n",
    "\n",
    "**Weave** is Weights & Biases’ next-gen platform for tracking, evaluating, and visualizing GenAI applications.\n",
    "\n",
    "In REBOOT, you'll use Weave to:\n",
    "- Log and score model generations\n",
    "- Run structured evaluations on Q&A performance\n",
    "- Compare outputs with reference answers\n",
    "\n",
    "This enables you to **quantitatively assess** how mission-ready your model is.\n",
    "\n",
    "Let’s initialize Weave and plug it into your finetuned system."
   ]
  },
  {
   "cell_type": "code",
   "execution_count": 19,
   "id": "b7348cba",
   "metadata": {
    "colab": {
     "base_uri": "https://localhost:8080/"
    },
    "id": "b7348cba",
    "outputId": "8e986fcd-5e33-44ea-cee8-f34ede1d011c"
   },
   "outputs": [
    {
     "name": "stdout",
     "output_type": "stream",
     "text": [
      "\u001b[31mERROR: pip's dependency resolver does not currently take into account all the packages that are installed. This behaviour is the source of the following dependency conflicts.\n",
      "sagemaker 2.243.3 requires numpy==1.26.4, but you have numpy 2.2.6 which is incompatible.\u001b[0m\u001b[31m\n",
      "\u001b[0m"
     ]
    }
   ],
   "source": [
    "!pip install weave \"weave[scorers]\" -q"
   ]
  },
  {
   "cell_type": "code",
   "execution_count": 20,
   "id": "309fd38a",
   "metadata": {
    "colab": {
     "base_uri": "https://localhost:8080/"
    },
    "id": "309fd38a",
    "outputId": "4155a61d-a420-4e3a-e7b4-ce506a9ed1f9"
   },
   "outputs": [
    {
     "name": "stdout",
     "output_type": "stream",
     "text": [
      "Logged in as Weights & Biases user: anushrav-vatsa.\n",
      "View Weave data at https://wandb.ai/FT-Testing/Astros-FT-Workshop/weave\n"
     ]
    },
    {
     "data": {
      "text/plain": [
       "<weave.trace.weave_client.WeaveClient at 0x7f1ec45d3400>"
      ]
     },
     "execution_count": 20,
     "metadata": {},
     "output_type": "execute_result"
    }
   ],
   "source": [
    "import weave\n",
    "weave.init(f\"{WANDB_ENTITY}/{WANDB_PROJECT_NAME}\")"
   ]
  },
  {
   "cell_type": "markdown",
   "id": "F4vH2PsqWsDD",
   "metadata": {
    "id": "F4vH2PsqWsDD"
   },
   "source": [
    "### Calling our Local Finetuned Model"
   ]
  },
  {
   "cell_type": "code",
   "execution_count": 35,
   "id": "473bb674",
   "metadata": {
    "colab": {
     "base_uri": "https://localhost:8080/",
     "height": 211
    },
    "id": "473bb674",
    "outputId": "c4eb4471-34d1-4095-f776-242bdb4231ab"
   },
   "outputs": [],
   "source": [
    "@weave.op()\n",
    "def call_model(question: str) -> str:\n",
    "    \"\"\"Generate an answer from your Local LLM given a prompt.\"\"\"\n",
    "\n",
    "    system_prompt = \"You are an expert in astrophysics. Please provide a concise and truthful answer to the following question:\"\n",
    "    prompt = system_prompt + \"\\n\\n\" + question + \"\\nAnswer:\"\n",
    "\n",
    "    inputs = tokenizer(prompt, return_tensors=\"pt\").to(model.device)\n",
    "    with torch.no_grad():\n",
    "        output = model.generate(**inputs, max_new_tokens=150, do_sample=False, eos_token_id=tokenizer.eos_token_id, pad_token_id=model.config.eos_token_id)\n",
    "    return tokenizer.decode(output[0], skip_special_tokens=True).replace(prompt, '').strip(),"
   ]
  },
  {
   "cell_type": "markdown",
   "id": "bd25f02a",
   "metadata": {
    "id": "bd25f02a"
   },
   "source": [
    "## 📊 Final Check: Evaluation Protocols\n",
    "\n",
    "Your neural core is active—but is it mission-grade?\n",
    "\n",
    "Use this section to:\n",
    "- Load an evaluation dataset\n",
    "- Score model responses using embedding similarity\n",
    "- Track performance with W&B + Weave\n",
    "\n",
    "**Evaluation is critical** before deployment—it ensures your model’s reasoning is aligned with mission parameters."
   ]
  },
  {
   "cell_type": "markdown",
   "id": "a4b39f03",
   "metadata": {
    "id": "a4b39f03"
   },
   "source": [
    "# Evaluating our Model"
   ]
  },
  {
   "cell_type": "markdown",
   "id": "700a6f0f",
   "metadata": {
    "id": "700a6f0f"
   },
   "source": [
    "## Load model"
   ]
  },
  {
   "cell_type": "code",
   "execution_count": 36,
   "id": "bf82b834",
   "metadata": {
    "colab": {
     "base_uri": "https://localhost:8080/"
    },
    "id": "bf82b834",
    "outputId": "5119b1d1-e3b7-47c2-ea1a-21105b2a7ca3"
   },
   "outputs": [
    {
     "name": "stdout",
     "output_type": "stream",
     "text": [
      "Loading model with 4-bit quantization...\n"
     ]
    }
   ],
   "source": [
    "base_model_dir = \"./models/falcon-rw-1b_v0\" # Path to base model - modify accordingly to fine_tuned_model/<TinyLlama_v1 or falcon-rw-1b_v0>\n",
    "adapter_dir = \"./best_model/FalconForCausalLM\" #add path to adapter dir\n",
    "\n",
    "tokenizer, model = load_finetuned_model(adapter_dir, base_model_dir)"
   ]
  },
  {
   "cell_type": "markdown",
   "id": "53cf9ddb",
   "metadata": {
    "id": "53cf9ddb"
   },
   "source": [
    "## Get Eval Dataset"
   ]
  },
  {
   "cell_type": "code",
   "execution_count": 28,
   "id": "db236752",
   "metadata": {
    "colab": {
     "base_uri": "https://localhost:8080/"
    },
    "id": "db236752",
    "outputId": "2123d874-4710-4544-c9bf-aa2909dab1c2"
   },
   "outputs": [
    {
     "name": "stdout",
     "output_type": "stream",
     "text": [
      "Logged in as Weights & Biases user: anushrav-vatsa.\n",
      "View Weave data at https://wandb.ai/fc25-wandb-admins/uncategorized/weave\n"
     ]
    }
   ],
   "source": [
    "weave.init('fc25-wandb-admins/uncategorized')\n",
    "eval_dataset_public_v0 = weave.ref('eval_dataset_public:v0').get()"
   ]
  },
  {
   "cell_type": "markdown",
   "id": "2d915b61",
   "metadata": {
    "id": "2d915b61"
   },
   "source": [
    "## Test the model with a sample from our eval dataset"
   ]
  },
  {
   "cell_type": "code",
   "execution_count": 29,
   "id": "79f64721",
   "metadata": {
    "colab": {
     "base_uri": "https://localhost:8080/"
    },
    "id": "79f64721",
    "outputId": "71aabdb8-48ee-4498-da9e-453bacd5dbd3"
   },
   "outputs": [
    {
     "name": "stdout",
     "output_type": "stream",
     "text": [
      "🍩 https://wandb.ai/fc25-wandb-admins/uncategorized/r/call/0196fdff-1933-7a01-be30-a82caffc0a9f\n",
      "🛰️  Incoming Transmission — Mission Q&A\n",
      "\n",
      "🧠 Question:\n",
      "How can 'cosmic variance' affect the interpretation of measurements of the cosmic star formation rate density?\n",
      "\n",
      "🤖 Model Response:\n",
      "('Cosmic variance is the statistical uncertainty in the observed value of a quantity due to the large number of independent measurements of the same quantity. The cosmic star formation rate density (SFRD) is a fundamental quantity used to estimate the total mass of stars in the Milky Way and the universe. It is a function of redshift, but the value is also sensitive to the number of galaxies and clusters in the universe. The standard deviation (σ₈) of the SFRD is the uncertainty in the value of the density function. The cosmic variance of the SFRD is large, making it difficult to infer the true value from a single measurement. The standard error of the cosmic variance (σ₈) is the uncertainty in the value',)\n",
      "🍩 https://wandb.ai/fc25-wandb-admins/uncategorized/r/call/0196fe01-bc63-7100-8f39-d485ff9de011\n",
      "🍩 https://wandb.ai/fc25-wandb-admins/uncategorized/r/call/0196fe69-95fc-7920-8435-59a3b1e536bb\n"
     ]
    }
   ],
   "source": [
    "question = eval_dataset_public_v0[20]['question']\n",
    "answer = call_model(question)\n",
    "\n",
    "print(\"🛰️  Incoming Transmission — Mission Q&A\\n\")\n",
    "print(f\"🧠 Question:\\n{question}\\n\")\n",
    "print(f\"🤖 Model Response:\\n{answer}\")"
   ]
  },
  {
   "cell_type": "markdown",
   "id": "5bf1d927",
   "metadata": {
    "id": "5bf1d927"
   },
   "source": [
    "## Setup eval"
   ]
  },
  {
   "cell_type": "code",
   "execution_count": 37,
   "id": "ff0cfaee",
   "metadata": {
    "id": "ff0cfaee"
   },
   "outputs": [],
   "source": [
    "import asyncio\n",
    "from weave.scorers import EmbeddingSimilarityScorer\n",
    "similarity_scorer = EmbeddingSimilarityScorer(\n",
    "    model_id=\"amazon.titan-embed-text-v2:0\",  # will need to update this to bedrock's titan models\n",
    "    threshold=0.7\n",
    ")\n",
    "\n",
    "similarity_scorer.column_map = {\n",
    "    \"output\": \"model_output\",  # Your model's response\n",
    "    \"target\": \"answer\", # The reference response (expected)\n",
    "    \"kwargs\": \"question\"\n",
    "}"
   ]
  },
  {
   "cell_type": "code",
   "execution_count": 38,
   "id": "a5479015",
   "metadata": {
    "id": "a5479015"
   },
   "outputs": [],
   "source": [
    "eval_dataset = eval_dataset_public_v0.rows[20:25] # select samples to run evalaution against"
   ]
  },
  {
   "cell_type": "code",
   "execution_count": 39,
   "id": "533ef801",
   "metadata": {
    "colab": {
     "base_uri": "https://localhost:8080/",
     "height": 314
    },
    "id": "533ef801",
    "outputId": "55475355-aecc-4822-c3fc-9a085ff202e8"
   },
   "outputs": [
    {
     "name": "stdout",
     "output_type": "stream",
     "text": [
      "\n",
      "\u001b[1;31mGive Feedback / Get Help: https://github.com/BerriAI/litellm/issues/new\u001b[0m\n",
      "LiteLLM.Info: If you need to debug this error, use `litellm._turn_on_debug()'.\n",
      "\n"
     ]
    },
    {
     "data": {
      "text/html": [
       "<pre style=\"white-space:pre;overflow-x:auto;line-height:normal;font-family:Menlo,'DejaVu Sans Mono',consolas,'Courier New',monospace\">Predict and score failed\n",
       "</pre>\n"
      ],
      "text/plain": [
       "Predict and score failed\n"
      ]
     },
     "metadata": {},
     "output_type": "display_data"
    },
    {
     "name": "stderr",
     "output_type": "stream",
     "text": [
      "Traceback (most recent call last):\n",
      "  File \"/home/ec2-user/anaconda3/envs/python3/lib/python3.10/site-packages/litellm/llms/bedrock/embed/embedding.py\", line 138, in _make_async_call\n",
      "    response = await client.post(url=api_base, headers=headers, data=json.dumps(data))  # type: ignore\n",
      "  File \"/home/ec2-user/anaconda3/envs/python3/lib/python3.10/site-packages/litellm/litellm_core_utils/logging_utils.py\", line 135, in async_wrapper\n",
      "    result = await func(*args, **kwargs)\n",
      "  File \"/home/ec2-user/anaconda3/envs/python3/lib/python3.10/site-packages/litellm/llms/custom_httpx/http_handler.py\", line 265, in post\n",
      "    raise e\n",
      "  File \"/home/ec2-user/anaconda3/envs/python3/lib/python3.10/site-packages/litellm/llms/custom_httpx/http_handler.py\", line 221, in post\n",
      "    response.raise_for_status()\n",
      "  File \"/home/ec2-user/anaconda3/envs/python3/lib/python3.10/site-packages/httpx/_models.py\", line 829, in raise_for_status\n",
      "    raise HTTPStatusError(message, request=request, response=self)\n",
      "httpx.HTTPStatusError: Client error '403 Forbidden' for url 'https://bedrock-runtime.us-west-2.amazonaws.com/model/amazon.titan-embed-text-v2:0/invoke'\n",
      "For more information check: https://developer.mozilla.org/en-US/docs/Web/HTTP/Status/403\n",
      "\n",
      "During handling of the above exception, another exception occurred:\n",
      "\n",
      "Traceback (most recent call last):\n",
      "  File \"/home/ec2-user/anaconda3/envs/python3/lib/python3.10/site-packages/litellm/main.py\", line 3339, in aembedding\n",
      "    response = await init_response  # type: ignore\n",
      "  File \"/home/ec2-user/anaconda3/envs/python3/lib/python3.10/site-packages/litellm/llms/bedrock/embed/embedding.py\", line 281, in _async_single_func_embeddings\n",
      "    response = await self._make_async_call(\n",
      "  File \"/home/ec2-user/anaconda3/envs/python3/lib/python3.10/site-packages/litellm/llms/bedrock/embed/embedding.py\", line 142, in _make_async_call\n",
      "    raise BedrockError(status_code=error_code, message=err.response.text)\n",
      "litellm.llms.bedrock.common_utils.BedrockError: {\"message\":\"You don't have access to the model with the specified model ID.\"}\n",
      "\n",
      "During handling of the above exception, another exception occurred:\n",
      "\n",
      "Traceback (most recent call last):\n",
      "  File \"/home/ec2-user/anaconda3/envs/python3/lib/python3.10/site-packages/weave/flow/eval.py\", line 202, in eval_example\n",
      "    eval_row = await self.predict_and_score(model, example)\n",
      "  File \"/home/ec2-user/anaconda3/envs/python3/lib/python3.10/site-packages/weave/trace/op.py\", line 1213, in wrapper\n",
      "    res, _ = await _call_async_func(\n",
      "  File \"/home/ec2-user/anaconda3/envs/python3/lib/python3.10/site-packages/weave/trace/op.py\", line 625, in _call_async_func\n",
      "    res = await func(*args, **kwargs)\n",
      "  File \"/home/ec2-user/anaconda3/envs/python3/lib/python3.10/site-packages/weave/flow/eval.py\", line 160, in predict_and_score\n",
      "    apply_scorer_result = await model_call.apply_scorer(scorer, example)\n",
      "  File \"/home/ec2-user/anaconda3/envs/python3/lib/python3.10/site-packages/weave/trace/weave_client.py\", line 685, in apply_scorer\n",
      "    apply_scorer_result = await apply_scorer_async(scorer, example, output)\n",
      "  File \"/home/ec2-user/anaconda3/envs/python3/lib/python3.10/site-packages/weave/flow/scorer.py\", line 331, in apply_scorer_async\n",
      "    result, score_call = await async_call_op(score_op, **score_args)\n",
      "  File \"/home/ec2-user/anaconda3/envs/python3/lib/python3.10/site-packages/weave/trace/op.py\", line 625, in _call_async_func\n",
      "    res = await func(*args, **kwargs)\n",
      "  File \"/home/ec2-user/anaconda3/envs/python3/lib/python3.10/site-packages/weave/scorers/similarity_scorer.py\", line 37, in score\n",
      "    model_embedding, target_embedding = await self._compute_embeddings(\n",
      "  File \"/home/ec2-user/anaconda3/envs/python3/lib/python3.10/site-packages/weave/scorers/similarity_scorer.py\", line 45, in _compute_embeddings\n",
      "    embeddings = await self._aembedding(self.model_id, [output, target])\n",
      "  File \"/home/ec2-user/anaconda3/envs/python3/lib/python3.10/site-packages/litellm/utils.py\", line 1491, in wrapper_async\n",
      "    raise e\n",
      "  File \"/home/ec2-user/anaconda3/envs/python3/lib/python3.10/site-packages/litellm/utils.py\", line 1352, in wrapper_async\n",
      "    result = await original_function(*args, **kwargs)\n",
      "  File \"/home/ec2-user/anaconda3/envs/python3/lib/python3.10/site-packages/litellm/main.py\", line 3354, in aembedding\n",
      "    raise exception_type(\n",
      "  File \"/home/ec2-user/anaconda3/envs/python3/lib/python3.10/site-packages/litellm/litellm_core_utils/exception_mapping_utils.py\", line 2232, in exception_type\n",
      "    raise e\n",
      "  File \"/home/ec2-user/anaconda3/envs/python3/lib/python3.10/site-packages/litellm/litellm_core_utils/exception_mapping_utils.py\", line 2201, in exception_type\n",
      "    raise APIConnectionError(\n",
      "litellm.exceptions.APIConnectionError: litellm.APIConnectionError: BedrockException - {\"message\":\"You don't have access to the model with the specified model ID.\"}\n"
     ]
    },
    {
     "name": "stdout",
     "output_type": "stream",
     "text": [
      "\n",
      "\u001b[1;31mGive Feedback / Get Help: https://github.com/BerriAI/litellm/issues/new\u001b[0m\n",
      "LiteLLM.Info: If you need to debug this error, use `litellm._turn_on_debug()'.\n",
      "\n"
     ]
    },
    {
     "data": {
      "text/html": [
       "<pre style=\"white-space:pre;overflow-x:auto;line-height:normal;font-family:Menlo,'DejaVu Sans Mono',consolas,'Courier New',monospace\">Predict and score failed\n",
       "</pre>\n"
      ],
      "text/plain": [
       "Predict and score failed\n"
      ]
     },
     "metadata": {},
     "output_type": "display_data"
    },
    {
     "name": "stderr",
     "output_type": "stream",
     "text": [
      "Traceback (most recent call last):\n",
      "  File \"/home/ec2-user/anaconda3/envs/python3/lib/python3.10/site-packages/litellm/llms/bedrock/embed/embedding.py\", line 138, in _make_async_call\n",
      "    response = await client.post(url=api_base, headers=headers, data=json.dumps(data))  # type: ignore\n",
      "  File \"/home/ec2-user/anaconda3/envs/python3/lib/python3.10/site-packages/litellm/litellm_core_utils/logging_utils.py\", line 135, in async_wrapper\n",
      "    result = await func(*args, **kwargs)\n",
      "  File \"/home/ec2-user/anaconda3/envs/python3/lib/python3.10/site-packages/litellm/llms/custom_httpx/http_handler.py\", line 265, in post\n",
      "    raise e\n",
      "  File \"/home/ec2-user/anaconda3/envs/python3/lib/python3.10/site-packages/litellm/llms/custom_httpx/http_handler.py\", line 221, in post\n",
      "    response.raise_for_status()\n",
      "  File \"/home/ec2-user/anaconda3/envs/python3/lib/python3.10/site-packages/httpx/_models.py\", line 829, in raise_for_status\n",
      "    raise HTTPStatusError(message, request=request, response=self)\n",
      "httpx.HTTPStatusError: Client error '403 Forbidden' for url 'https://bedrock-runtime.us-west-2.amazonaws.com/model/amazon.titan-embed-text-v2:0/invoke'\n",
      "For more information check: https://developer.mozilla.org/en-US/docs/Web/HTTP/Status/403\n",
      "\n",
      "During handling of the above exception, another exception occurred:\n",
      "\n",
      "Traceback (most recent call last):\n",
      "  File \"/home/ec2-user/anaconda3/envs/python3/lib/python3.10/site-packages/litellm/main.py\", line 3339, in aembedding\n",
      "    response = await init_response  # type: ignore\n",
      "  File \"/home/ec2-user/anaconda3/envs/python3/lib/python3.10/site-packages/litellm/llms/bedrock/embed/embedding.py\", line 281, in _async_single_func_embeddings\n",
      "    response = await self._make_async_call(\n",
      "  File \"/home/ec2-user/anaconda3/envs/python3/lib/python3.10/site-packages/litellm/llms/bedrock/embed/embedding.py\", line 142, in _make_async_call\n",
      "    raise BedrockError(status_code=error_code, message=err.response.text)\n",
      "litellm.llms.bedrock.common_utils.BedrockError: {\"message\":\"You don't have access to the model with the specified model ID.\"}\n",
      "\n",
      "During handling of the above exception, another exception occurred:\n",
      "\n",
      "Traceback (most recent call last):\n",
      "  File \"/home/ec2-user/anaconda3/envs/python3/lib/python3.10/site-packages/weave/flow/eval.py\", line 202, in eval_example\n",
      "    eval_row = await self.predict_and_score(model, example)\n",
      "  File \"/home/ec2-user/anaconda3/envs/python3/lib/python3.10/site-packages/weave/trace/op.py\", line 1213, in wrapper\n",
      "    res, _ = await _call_async_func(\n",
      "  File \"/home/ec2-user/anaconda3/envs/python3/lib/python3.10/site-packages/weave/trace/op.py\", line 625, in _call_async_func\n",
      "    res = await func(*args, **kwargs)\n",
      "  File \"/home/ec2-user/anaconda3/envs/python3/lib/python3.10/site-packages/weave/flow/eval.py\", line 160, in predict_and_score\n",
      "    apply_scorer_result = await model_call.apply_scorer(scorer, example)\n",
      "  File \"/home/ec2-user/anaconda3/envs/python3/lib/python3.10/site-packages/weave/trace/weave_client.py\", line 685, in apply_scorer\n",
      "    apply_scorer_result = await apply_scorer_async(scorer, example, output)\n",
      "  File \"/home/ec2-user/anaconda3/envs/python3/lib/python3.10/site-packages/weave/flow/scorer.py\", line 331, in apply_scorer_async\n",
      "    result, score_call = await async_call_op(score_op, **score_args)\n",
      "  File \"/home/ec2-user/anaconda3/envs/python3/lib/python3.10/site-packages/weave/trace/op.py\", line 625, in _call_async_func\n",
      "    res = await func(*args, **kwargs)\n",
      "  File \"/home/ec2-user/anaconda3/envs/python3/lib/python3.10/site-packages/weave/scorers/similarity_scorer.py\", line 37, in score\n",
      "    model_embedding, target_embedding = await self._compute_embeddings(\n",
      "  File \"/home/ec2-user/anaconda3/envs/python3/lib/python3.10/site-packages/weave/scorers/similarity_scorer.py\", line 45, in _compute_embeddings\n",
      "    embeddings = await self._aembedding(self.model_id, [output, target])\n",
      "  File \"/home/ec2-user/anaconda3/envs/python3/lib/python3.10/site-packages/litellm/utils.py\", line 1491, in wrapper_async\n",
      "    raise e\n",
      "  File \"/home/ec2-user/anaconda3/envs/python3/lib/python3.10/site-packages/litellm/utils.py\", line 1352, in wrapper_async\n",
      "    result = await original_function(*args, **kwargs)\n",
      "  File \"/home/ec2-user/anaconda3/envs/python3/lib/python3.10/site-packages/litellm/main.py\", line 3354, in aembedding\n",
      "    raise exception_type(\n",
      "  File \"/home/ec2-user/anaconda3/envs/python3/lib/python3.10/site-packages/litellm/litellm_core_utils/exception_mapping_utils.py\", line 2232, in exception_type\n",
      "    raise e\n",
      "  File \"/home/ec2-user/anaconda3/envs/python3/lib/python3.10/site-packages/litellm/litellm_core_utils/exception_mapping_utils.py\", line 2201, in exception_type\n",
      "    raise APIConnectionError(\n",
      "litellm.exceptions.APIConnectionError: litellm.APIConnectionError: BedrockException - {\"message\":\"You don't have access to the model with the specified model ID.\"}\n"
     ]
    },
    {
     "data": {
      "text/html": [
       "<pre style=\"white-space:pre;overflow-x:auto;line-height:normal;font-family:Menlo,'DejaVu Sans Mono',consolas,'Courier New',monospace\">Evaluated <span style=\"color: #008080; text-decoration-color: #008080; font-weight: bold\">1</span> of <span style=\"color: #008080; text-decoration-color: #008080; font-weight: bold\">5</span> examples\n",
       "</pre>\n"
      ],
      "text/plain": [
       "Evaluated \u001b[1;36m1\u001b[0m of \u001b[1;36m5\u001b[0m examples\n"
      ]
     },
     "metadata": {},
     "output_type": "display_data"
    },
    {
     "name": "stdout",
     "output_type": "stream",
     "text": [
      "\n",
      "\u001b[1;31mGive Feedback / Get Help: https://github.com/BerriAI/litellm/issues/new\u001b[0m\n",
      "LiteLLM.Info: If you need to debug this error, use `litellm._turn_on_debug()'.\n",
      "\n"
     ]
    },
    {
     "data": {
      "text/html": [
       "<pre style=\"white-space:pre;overflow-x:auto;line-height:normal;font-family:Menlo,'DejaVu Sans Mono',consolas,'Courier New',monospace\">Predict and score failed\n",
       "</pre>\n"
      ],
      "text/plain": [
       "Predict and score failed\n"
      ]
     },
     "metadata": {},
     "output_type": "display_data"
    },
    {
     "name": "stderr",
     "output_type": "stream",
     "text": [
      "Traceback (most recent call last):\n",
      "  File \"/home/ec2-user/anaconda3/envs/python3/lib/python3.10/site-packages/litellm/llms/bedrock/embed/embedding.py\", line 138, in _make_async_call\n",
      "    response = await client.post(url=api_base, headers=headers, data=json.dumps(data))  # type: ignore\n",
      "  File \"/home/ec2-user/anaconda3/envs/python3/lib/python3.10/site-packages/litellm/litellm_core_utils/logging_utils.py\", line 135, in async_wrapper\n",
      "    result = await func(*args, **kwargs)\n",
      "  File \"/home/ec2-user/anaconda3/envs/python3/lib/python3.10/site-packages/litellm/llms/custom_httpx/http_handler.py\", line 265, in post\n",
      "    raise e\n",
      "  File \"/home/ec2-user/anaconda3/envs/python3/lib/python3.10/site-packages/litellm/llms/custom_httpx/http_handler.py\", line 221, in post\n",
      "    response.raise_for_status()\n",
      "  File \"/home/ec2-user/anaconda3/envs/python3/lib/python3.10/site-packages/httpx/_models.py\", line 829, in raise_for_status\n",
      "    raise HTTPStatusError(message, request=request, response=self)\n",
      "httpx.HTTPStatusError: Client error '403 Forbidden' for url 'https://bedrock-runtime.us-west-2.amazonaws.com/model/amazon.titan-embed-text-v2:0/invoke'\n",
      "For more information check: https://developer.mozilla.org/en-US/docs/Web/HTTP/Status/403\n",
      "\n",
      "During handling of the above exception, another exception occurred:\n",
      "\n",
      "Traceback (most recent call last):\n",
      "  File \"/home/ec2-user/anaconda3/envs/python3/lib/python3.10/site-packages/litellm/main.py\", line 3339, in aembedding\n",
      "    response = await init_response  # type: ignore\n",
      "  File \"/home/ec2-user/anaconda3/envs/python3/lib/python3.10/site-packages/litellm/llms/bedrock/embed/embedding.py\", line 281, in _async_single_func_embeddings\n",
      "    response = await self._make_async_call(\n",
      "  File \"/home/ec2-user/anaconda3/envs/python3/lib/python3.10/site-packages/litellm/llms/bedrock/embed/embedding.py\", line 142, in _make_async_call\n",
      "    raise BedrockError(status_code=error_code, message=err.response.text)\n",
      "litellm.llms.bedrock.common_utils.BedrockError: {\"message\":\"You don't have access to the model with the specified model ID.\"}\n",
      "\n",
      "During handling of the above exception, another exception occurred:\n",
      "\n",
      "Traceback (most recent call last):\n",
      "  File \"/home/ec2-user/anaconda3/envs/python3/lib/python3.10/site-packages/weave/flow/eval.py\", line 202, in eval_example\n",
      "    eval_row = await self.predict_and_score(model, example)\n",
      "  File \"/home/ec2-user/anaconda3/envs/python3/lib/python3.10/site-packages/weave/trace/op.py\", line 1213, in wrapper\n",
      "    res, _ = await _call_async_func(\n",
      "  File \"/home/ec2-user/anaconda3/envs/python3/lib/python3.10/site-packages/weave/trace/op.py\", line 625, in _call_async_func\n",
      "    res = await func(*args, **kwargs)\n",
      "  File \"/home/ec2-user/anaconda3/envs/python3/lib/python3.10/site-packages/weave/flow/eval.py\", line 160, in predict_and_score\n",
      "    apply_scorer_result = await model_call.apply_scorer(scorer, example)\n",
      "  File \"/home/ec2-user/anaconda3/envs/python3/lib/python3.10/site-packages/weave/trace/weave_client.py\", line 685, in apply_scorer\n",
      "    apply_scorer_result = await apply_scorer_async(scorer, example, output)\n",
      "  File \"/home/ec2-user/anaconda3/envs/python3/lib/python3.10/site-packages/weave/flow/scorer.py\", line 331, in apply_scorer_async\n",
      "    result, score_call = await async_call_op(score_op, **score_args)\n",
      "  File \"/home/ec2-user/anaconda3/envs/python3/lib/python3.10/site-packages/weave/trace/op.py\", line 625, in _call_async_func\n",
      "    res = await func(*args, **kwargs)\n",
      "  File \"/home/ec2-user/anaconda3/envs/python3/lib/python3.10/site-packages/weave/scorers/similarity_scorer.py\", line 37, in score\n",
      "    model_embedding, target_embedding = await self._compute_embeddings(\n",
      "  File \"/home/ec2-user/anaconda3/envs/python3/lib/python3.10/site-packages/weave/scorers/similarity_scorer.py\", line 45, in _compute_embeddings\n",
      "    embeddings = await self._aembedding(self.model_id, [output, target])\n",
      "  File \"/home/ec2-user/anaconda3/envs/python3/lib/python3.10/site-packages/litellm/utils.py\", line 1491, in wrapper_async\n",
      "    raise e\n",
      "  File \"/home/ec2-user/anaconda3/envs/python3/lib/python3.10/site-packages/litellm/utils.py\", line 1352, in wrapper_async\n",
      "    result = await original_function(*args, **kwargs)\n",
      "  File \"/home/ec2-user/anaconda3/envs/python3/lib/python3.10/site-packages/litellm/main.py\", line 3354, in aembedding\n",
      "    raise exception_type(\n",
      "  File \"/home/ec2-user/anaconda3/envs/python3/lib/python3.10/site-packages/litellm/litellm_core_utils/exception_mapping_utils.py\", line 2232, in exception_type\n",
      "    raise e\n",
      "  File \"/home/ec2-user/anaconda3/envs/python3/lib/python3.10/site-packages/litellm/litellm_core_utils/exception_mapping_utils.py\", line 2201, in exception_type\n",
      "    raise APIConnectionError(\n",
      "litellm.exceptions.APIConnectionError: litellm.APIConnectionError: BedrockException - {\"message\":\"You don't have access to the model with the specified model ID.\"}\n"
     ]
    },
    {
     "name": "stdout",
     "output_type": "stream",
     "text": [
      "\n",
      "\u001b[1;31mGive Feedback / Get Help: https://github.com/BerriAI/litellm/issues/new\u001b[0m\n",
      "LiteLLM.Info: If you need to debug this error, use `litellm._turn_on_debug()'.\n",
      "\n"
     ]
    },
    {
     "data": {
      "text/html": [
       "<pre style=\"white-space:pre;overflow-x:auto;line-height:normal;font-family:Menlo,'DejaVu Sans Mono',consolas,'Courier New',monospace\">Predict and score failed\n",
       "</pre>\n"
      ],
      "text/plain": [
       "Predict and score failed\n"
      ]
     },
     "metadata": {},
     "output_type": "display_data"
    },
    {
     "name": "stdout",
     "output_type": "stream",
     "text": [
      "\n",
      "\u001b[1;31mGive Feedback / Get Help: https://github.com/BerriAI/litellm/issues/new\u001b[0m\n",
      "LiteLLM.Info: If you need to debug this error, use `litellm._turn_on_debug()'.\n",
      "\n"
     ]
    },
    {
     "name": "stderr",
     "output_type": "stream",
     "text": [
      "Traceback (most recent call last):\n",
      "  File \"/home/ec2-user/anaconda3/envs/python3/lib/python3.10/site-packages/litellm/llms/bedrock/embed/embedding.py\", line 138, in _make_async_call\n",
      "    response = await client.post(url=api_base, headers=headers, data=json.dumps(data))  # type: ignore\n",
      "  File \"/home/ec2-user/anaconda3/envs/python3/lib/python3.10/site-packages/litellm/litellm_core_utils/logging_utils.py\", line 135, in async_wrapper\n",
      "    result = await func(*args, **kwargs)\n",
      "  File \"/home/ec2-user/anaconda3/envs/python3/lib/python3.10/site-packages/litellm/llms/custom_httpx/http_handler.py\", line 265, in post\n",
      "    raise e\n",
      "  File \"/home/ec2-user/anaconda3/envs/python3/lib/python3.10/site-packages/litellm/llms/custom_httpx/http_handler.py\", line 221, in post\n",
      "    response.raise_for_status()\n",
      "  File \"/home/ec2-user/anaconda3/envs/python3/lib/python3.10/site-packages/httpx/_models.py\", line 829, in raise_for_status\n",
      "    raise HTTPStatusError(message, request=request, response=self)\n",
      "httpx.HTTPStatusError: Client error '403 Forbidden' for url 'https://bedrock-runtime.us-west-2.amazonaws.com/model/amazon.titan-embed-text-v2:0/invoke'\n",
      "For more information check: https://developer.mozilla.org/en-US/docs/Web/HTTP/Status/403\n",
      "\n",
      "During handling of the above exception, another exception occurred:\n",
      "\n",
      "Traceback (most recent call last):\n",
      "  File \"/home/ec2-user/anaconda3/envs/python3/lib/python3.10/site-packages/litellm/main.py\", line 3339, in aembedding\n",
      "    response = await init_response  # type: ignore\n",
      "  File \"/home/ec2-user/anaconda3/envs/python3/lib/python3.10/site-packages/litellm/llms/bedrock/embed/embedding.py\", line 281, in _async_single_func_embeddings\n",
      "    response = await self._make_async_call(\n",
      "  File \"/home/ec2-user/anaconda3/envs/python3/lib/python3.10/site-packages/litellm/llms/bedrock/embed/embedding.py\", line 142, in _make_async_call\n",
      "    raise BedrockError(status_code=error_code, message=err.response.text)\n",
      "litellm.llms.bedrock.common_utils.BedrockError: {\"message\":\"You don't have access to the model with the specified model ID.\"}\n",
      "\n",
      "During handling of the above exception, another exception occurred:\n",
      "\n",
      "Traceback (most recent call last):\n",
      "  File \"/home/ec2-user/anaconda3/envs/python3/lib/python3.10/site-packages/weave/flow/eval.py\", line 202, in eval_example\n",
      "    eval_row = await self.predict_and_score(model, example)\n",
      "  File \"/home/ec2-user/anaconda3/envs/python3/lib/python3.10/site-packages/weave/trace/op.py\", line 1213, in wrapper\n",
      "    res, _ = await _call_async_func(\n",
      "  File \"/home/ec2-user/anaconda3/envs/python3/lib/python3.10/site-packages/weave/trace/op.py\", line 625, in _call_async_func\n",
      "    res = await func(*args, **kwargs)\n",
      "  File \"/home/ec2-user/anaconda3/envs/python3/lib/python3.10/site-packages/weave/flow/eval.py\", line 160, in predict_and_score\n",
      "    apply_scorer_result = await model_call.apply_scorer(scorer, example)\n",
      "  File \"/home/ec2-user/anaconda3/envs/python3/lib/python3.10/site-packages/weave/trace/weave_client.py\", line 685, in apply_scorer\n",
      "    apply_scorer_result = await apply_scorer_async(scorer, example, output)\n",
      "  File \"/home/ec2-user/anaconda3/envs/python3/lib/python3.10/site-packages/weave/flow/scorer.py\", line 331, in apply_scorer_async\n",
      "    result, score_call = await async_call_op(score_op, **score_args)\n",
      "  File \"/home/ec2-user/anaconda3/envs/python3/lib/python3.10/site-packages/weave/trace/op.py\", line 625, in _call_async_func\n",
      "    res = await func(*args, **kwargs)\n",
      "  File \"/home/ec2-user/anaconda3/envs/python3/lib/python3.10/site-packages/weave/scorers/similarity_scorer.py\", line 37, in score\n",
      "    model_embedding, target_embedding = await self._compute_embeddings(\n",
      "  File \"/home/ec2-user/anaconda3/envs/python3/lib/python3.10/site-packages/weave/scorers/similarity_scorer.py\", line 45, in _compute_embeddings\n",
      "    embeddings = await self._aembedding(self.model_id, [output, target])\n",
      "  File \"/home/ec2-user/anaconda3/envs/python3/lib/python3.10/site-packages/litellm/utils.py\", line 1491, in wrapper_async\n",
      "    raise e\n",
      "  File \"/home/ec2-user/anaconda3/envs/python3/lib/python3.10/site-packages/litellm/utils.py\", line 1352, in wrapper_async\n",
      "    result = await original_function(*args, **kwargs)\n",
      "  File \"/home/ec2-user/anaconda3/envs/python3/lib/python3.10/site-packages/litellm/main.py\", line 3354, in aembedding\n",
      "    raise exception_type(\n",
      "  File \"/home/ec2-user/anaconda3/envs/python3/lib/python3.10/site-packages/litellm/litellm_core_utils/exception_mapping_utils.py\", line 2232, in exception_type\n",
      "    raise e\n",
      "  File \"/home/ec2-user/anaconda3/envs/python3/lib/python3.10/site-packages/litellm/litellm_core_utils/exception_mapping_utils.py\", line 2201, in exception_type\n",
      "    raise APIConnectionError(\n",
      "litellm.exceptions.APIConnectionError: litellm.APIConnectionError: BedrockException - {\"message\":\"You don't have access to the model with the specified model ID.\"}\n"
     ]
    },
    {
     "data": {
      "text/html": [
       "<pre style=\"white-space:pre;overflow-x:auto;line-height:normal;font-family:Menlo,'DejaVu Sans Mono',consolas,'Courier New',monospace\">Predict and score failed\n",
       "</pre>\n"
      ],
      "text/plain": [
       "Predict and score failed\n"
      ]
     },
     "metadata": {},
     "output_type": "display_data"
    },
    {
     "name": "stderr",
     "output_type": "stream",
     "text": [
      "Traceback (most recent call last):\n",
      "  File \"/home/ec2-user/anaconda3/envs/python3/lib/python3.10/site-packages/litellm/llms/bedrock/embed/embedding.py\", line 138, in _make_async_call\n",
      "    response = await client.post(url=api_base, headers=headers, data=json.dumps(data))  # type: ignore\n",
      "  File \"/home/ec2-user/anaconda3/envs/python3/lib/python3.10/site-packages/litellm/litellm_core_utils/logging_utils.py\", line 135, in async_wrapper\n",
      "    result = await func(*args, **kwargs)\n",
      "  File \"/home/ec2-user/anaconda3/envs/python3/lib/python3.10/site-packages/litellm/llms/custom_httpx/http_handler.py\", line 265, in post\n",
      "    raise e\n",
      "  File \"/home/ec2-user/anaconda3/envs/python3/lib/python3.10/site-packages/litellm/llms/custom_httpx/http_handler.py\", line 221, in post\n",
      "    response.raise_for_status()\n",
      "  File \"/home/ec2-user/anaconda3/envs/python3/lib/python3.10/site-packages/httpx/_models.py\", line 829, in raise_for_status\n",
      "    raise HTTPStatusError(message, request=request, response=self)\n",
      "httpx.HTTPStatusError: Client error '403 Forbidden' for url 'https://bedrock-runtime.us-west-2.amazonaws.com/model/amazon.titan-embed-text-v2:0/invoke'\n",
      "For more information check: https://developer.mozilla.org/en-US/docs/Web/HTTP/Status/403\n",
      "\n",
      "During handling of the above exception, another exception occurred:\n",
      "\n",
      "Traceback (most recent call last):\n",
      "  File \"/home/ec2-user/anaconda3/envs/python3/lib/python3.10/site-packages/litellm/main.py\", line 3339, in aembedding\n",
      "    response = await init_response  # type: ignore\n",
      "  File \"/home/ec2-user/anaconda3/envs/python3/lib/python3.10/site-packages/litellm/llms/bedrock/embed/embedding.py\", line 281, in _async_single_func_embeddings\n",
      "    response = await self._make_async_call(\n",
      "  File \"/home/ec2-user/anaconda3/envs/python3/lib/python3.10/site-packages/litellm/llms/bedrock/embed/embedding.py\", line 142, in _make_async_call\n",
      "    raise BedrockError(status_code=error_code, message=err.response.text)\n",
      "litellm.llms.bedrock.common_utils.BedrockError: {\"message\":\"You don't have access to the model with the specified model ID.\"}\n",
      "\n",
      "During handling of the above exception, another exception occurred:\n",
      "\n",
      "Traceback (most recent call last):\n",
      "  File \"/home/ec2-user/anaconda3/envs/python3/lib/python3.10/site-packages/weave/flow/eval.py\", line 202, in eval_example\n",
      "    eval_row = await self.predict_and_score(model, example)\n",
      "  File \"/home/ec2-user/anaconda3/envs/python3/lib/python3.10/site-packages/weave/trace/op.py\", line 1213, in wrapper\n",
      "    res, _ = await _call_async_func(\n",
      "  File \"/home/ec2-user/anaconda3/envs/python3/lib/python3.10/site-packages/weave/trace/op.py\", line 625, in _call_async_func\n",
      "    res = await func(*args, **kwargs)\n",
      "  File \"/home/ec2-user/anaconda3/envs/python3/lib/python3.10/site-packages/weave/flow/eval.py\", line 160, in predict_and_score\n",
      "    apply_scorer_result = await model_call.apply_scorer(scorer, example)\n",
      "  File \"/home/ec2-user/anaconda3/envs/python3/lib/python3.10/site-packages/weave/trace/weave_client.py\", line 685, in apply_scorer\n",
      "    apply_scorer_result = await apply_scorer_async(scorer, example, output)\n",
      "  File \"/home/ec2-user/anaconda3/envs/python3/lib/python3.10/site-packages/weave/flow/scorer.py\", line 331, in apply_scorer_async\n",
      "    result, score_call = await async_call_op(score_op, **score_args)\n",
      "  File \"/home/ec2-user/anaconda3/envs/python3/lib/python3.10/site-packages/weave/trace/op.py\", line 625, in _call_async_func\n",
      "    res = await func(*args, **kwargs)\n",
      "  File \"/home/ec2-user/anaconda3/envs/python3/lib/python3.10/site-packages/weave/scorers/similarity_scorer.py\", line 37, in score\n",
      "    model_embedding, target_embedding = await self._compute_embeddings(\n",
      "  File \"/home/ec2-user/anaconda3/envs/python3/lib/python3.10/site-packages/weave/scorers/similarity_scorer.py\", line 45, in _compute_embeddings\n",
      "    embeddings = await self._aembedding(self.model_id, [output, target])\n",
      "  File \"/home/ec2-user/anaconda3/envs/python3/lib/python3.10/site-packages/litellm/utils.py\", line 1491, in wrapper_async\n",
      "    raise e\n",
      "  File \"/home/ec2-user/anaconda3/envs/python3/lib/python3.10/site-packages/litellm/utils.py\", line 1352, in wrapper_async\n",
      "    result = await original_function(*args, **kwargs)\n",
      "  File \"/home/ec2-user/anaconda3/envs/python3/lib/python3.10/site-packages/litellm/main.py\", line 3354, in aembedding\n",
      "    raise exception_type(\n",
      "  File \"/home/ec2-user/anaconda3/envs/python3/lib/python3.10/site-packages/litellm/litellm_core_utils/exception_mapping_utils.py\", line 2232, in exception_type\n",
      "    raise e\n",
      "  File \"/home/ec2-user/anaconda3/envs/python3/lib/python3.10/site-packages/litellm/litellm_core_utils/exception_mapping_utils.py\", line 2201, in exception_type\n",
      "    raise APIConnectionError(\n",
      "litellm.exceptions.APIConnectionError: litellm.APIConnectionError: BedrockException - {\"message\":\"You don't have access to the model with the specified model ID.\"}\n"
     ]
    },
    {
     "data": {
      "text/html": [
       "<pre style=\"white-space:pre;overflow-x:auto;line-height:normal;font-family:Menlo,'DejaVu Sans Mono',consolas,'Courier New',monospace\">Evaluated <span style=\"color: #008080; text-decoration-color: #008080; font-weight: bold\">2</span> of <span style=\"color: #008080; text-decoration-color: #008080; font-weight: bold\">5</span> examples\n",
       "</pre>\n"
      ],
      "text/plain": [
       "Evaluated \u001b[1;36m2\u001b[0m of \u001b[1;36m5\u001b[0m examples\n"
      ]
     },
     "metadata": {},
     "output_type": "display_data"
    },
    {
     "data": {
      "text/html": [
       "<pre style=\"white-space:pre;overflow-x:auto;line-height:normal;font-family:Menlo,'DejaVu Sans Mono',consolas,'Courier New',monospace\">Evaluated <span style=\"color: #008080; text-decoration-color: #008080; font-weight: bold\">3</span> of <span style=\"color: #008080; text-decoration-color: #008080; font-weight: bold\">5</span> examples\n",
       "</pre>\n"
      ],
      "text/plain": [
       "Evaluated \u001b[1;36m3\u001b[0m of \u001b[1;36m5\u001b[0m examples\n"
      ]
     },
     "metadata": {},
     "output_type": "display_data"
    },
    {
     "data": {
      "text/html": [
       "<pre style=\"white-space:pre;overflow-x:auto;line-height:normal;font-family:Menlo,'DejaVu Sans Mono',consolas,'Courier New',monospace\">Evaluated <span style=\"color: #008080; text-decoration-color: #008080; font-weight: bold\">4</span> of <span style=\"color: #008080; text-decoration-color: #008080; font-weight: bold\">5</span> examples\n",
       "</pre>\n"
      ],
      "text/plain": [
       "Evaluated \u001b[1;36m4\u001b[0m of \u001b[1;36m5\u001b[0m examples\n"
      ]
     },
     "metadata": {},
     "output_type": "display_data"
    },
    {
     "data": {
      "text/html": [
       "<pre style=\"white-space:pre;overflow-x:auto;line-height:normal;font-family:Menlo,'DejaVu Sans Mono',consolas,'Courier New',monospace\">Evaluated <span style=\"color: #008080; text-decoration-color: #008080; font-weight: bold\">5</span> of <span style=\"color: #008080; text-decoration-color: #008080; font-weight: bold\">5</span> examples\n",
       "</pre>\n"
      ],
      "text/plain": [
       "Evaluated \u001b[1;36m5\u001b[0m of \u001b[1;36m5\u001b[0m examples\n"
      ]
     },
     "metadata": {},
     "output_type": "display_data"
    },
    {
     "data": {
      "text/html": [
       "<pre style=\"white-space:pre;overflow-x:auto;line-height:normal;font-family:Menlo,'DejaVu Sans Mono',consolas,'Courier New',monospace\">Evaluation summary\n",
       "<span style=\"font-weight: bold\">{</span><span style=\"color: #008000; text-decoration-color: #008000\">'EmbeddingSimilarityScorer'</span>: <span style=\"color: #800080; text-decoration-color: #800080; font-style: italic\">None</span><span style=\"font-weight: bold\">}</span>\n",
       "</pre>\n"
      ],
      "text/plain": [
       "Evaluation summary\n",
       "\u001b[1m{\u001b[0m\u001b[32m'EmbeddingSimilarityScorer'\u001b[0m: \u001b[3;35mNone\u001b[0m\u001b[1m}\u001b[0m\n"
      ]
     },
     "metadata": {},
     "output_type": "display_data"
    },
    {
     "name": "stdout",
     "output_type": "stream",
     "text": [
      "{'EmbeddingSimilarityScorer': None}\n"
     ]
    }
   ],
   "source": [
    "evaluation = weave.Evaluation(\n",
    "    evaluation_name = f\"{WORKSHOP_TEAM_NAME}_qna_eval\",\n",
    "    dataset=eval_dataset, scorers=[similarity_scorer],\n",
    "    name=\"model_qna_eval\"\n",
    "   )\n",
    "\n",
    "print(await(evaluation.evaluate(call_model)) )"
   ]
  },
  {
   "cell_type": "code",
   "execution_count": null,
   "id": "b409d479-050c-4079-8c2a-3a2f9ef9642e",
   "metadata": {},
   "outputs": [],
   "source": []
  }
 ],
 "metadata": {
  "accelerator": "GPU",
  "colab": {
   "gpuType": "A100",
   "machine_shape": "hm",
   "provenance": []
  },
  "kernelspec": {
   "display_name": "conda_python3",
   "language": "python",
   "name": "conda_python3"
  },
  "language_info": {
   "codemirror_mode": {
    "name": "ipython",
    "version": 3
   },
   "file_extension": ".py",
   "mimetype": "text/x-python",
   "name": "python",
   "nbconvert_exporter": "python",
   "pygments_lexer": "ipython3",
   "version": "3.10.17"
  },
  "widgets": {
   "application/vnd.jupyter.widget-state+json": {
    "02b048fcb50c451d89964ee93405cb93": {
     "model_module": "@jupyter-widgets/controls",
     "model_module_version": "1.5.0",
     "model_name": "HTMLModel",
     "state": {
      "_dom_classes": [],
      "_model_module": "@jupyter-widgets/controls",
      "_model_module_version": "1.5.0",
      "_model_name": "HTMLModel",
      "_view_count": null,
      "_view_module": "@jupyter-widgets/controls",
      "_view_module_version": "1.5.0",
      "_view_name": "HTMLView",
      "description": "",
      "description_tooltip": null,
      "layout": "IPY_MODEL_673061059cb64053896079a0de7d3458",
      "placeholder": "​",
      "style": "IPY_MODEL_908c81b282f64785b4fa729646b00c98",
      "value": "Map: 100%"
     }
    },
    "1173b7a21b3a4792bda7baa084fc5147": {
     "model_module": "@jupyter-widgets/base",
     "model_module_version": "1.2.0",
     "model_name": "LayoutModel",
     "state": {
      "_model_module": "@jupyter-widgets/base",
      "_model_module_version": "1.2.0",
      "_model_name": "LayoutModel",
      "_view_count": null,
      "_view_module": "@jupyter-widgets/base",
      "_view_module_version": "1.2.0",
      "_view_name": "LayoutView",
      "align_content": null,
      "align_items": null,
      "align_self": null,
      "border": null,
      "bottom": null,
      "display": null,
      "flex": null,
      "flex_flow": null,
      "grid_area": null,
      "grid_auto_columns": null,
      "grid_auto_flow": null,
      "grid_auto_rows": null,
      "grid_column": null,
      "grid_gap": null,
      "grid_row": null,
      "grid_template_areas": null,
      "grid_template_columns": null,
      "grid_template_rows": null,
      "height": null,
      "justify_content": null,
      "justify_items": null,
      "left": null,
      "margin": null,
      "max_height": null,
      "max_width": null,
      "min_height": null,
      "min_width": null,
      "object_fit": null,
      "object_position": null,
      "order": null,
      "overflow": null,
      "overflow_x": null,
      "overflow_y": null,
      "padding": null,
      "right": null,
      "top": null,
      "visibility": null,
      "width": null
     }
    },
    "3b119211b51a4c1e847bf9c8e2fbd28c": {
     "model_module": "@jupyter-widgets/base",
     "model_module_version": "1.2.0",
     "model_name": "LayoutModel",
     "state": {
      "_model_module": "@jupyter-widgets/base",
      "_model_module_version": "1.2.0",
      "_model_name": "LayoutModel",
      "_view_count": null,
      "_view_module": "@jupyter-widgets/base",
      "_view_module_version": "1.2.0",
      "_view_name": "LayoutView",
      "align_content": null,
      "align_items": null,
      "align_self": null,
      "border": null,
      "bottom": null,
      "display": null,
      "flex": null,
      "flex_flow": null,
      "grid_area": null,
      "grid_auto_columns": null,
      "grid_auto_flow": null,
      "grid_auto_rows": null,
      "grid_column": null,
      "grid_gap": null,
      "grid_row": null,
      "grid_template_areas": null,
      "grid_template_columns": null,
      "grid_template_rows": null,
      "height": null,
      "justify_content": null,
      "justify_items": null,
      "left": null,
      "margin": null,
      "max_height": null,
      "max_width": null,
      "min_height": null,
      "min_width": null,
      "object_fit": null,
      "object_position": null,
      "order": null,
      "overflow": null,
      "overflow_x": null,
      "overflow_y": null,
      "padding": null,
      "right": null,
      "top": null,
      "visibility": null,
      "width": null
     }
    },
    "49be6b548baf43c5bcd1091e2bfd56f6": {
     "model_module": "@jupyter-widgets/controls",
     "model_module_version": "1.5.0",
     "model_name": "HTMLModel",
     "state": {
      "_dom_classes": [],
      "_model_module": "@jupyter-widgets/controls",
      "_model_module_version": "1.5.0",
      "_model_name": "HTMLModel",
      "_view_count": null,
      "_view_module": "@jupyter-widgets/controls",
      "_view_module_version": "1.5.0",
      "_view_name": "HTMLView",
      "description": "",
      "description_tooltip": null,
      "layout": "IPY_MODEL_e1ec82f4ca08434b85d3329bad4bf301",
      "placeholder": "​",
      "style": "IPY_MODEL_ed9744b33f834485b653da828cf72026",
      "value": " 160/160 [00:00&lt;00:00, 2077.03 examples/s]"
     }
    },
    "52c005c417a84f9aa9604239dd62197e": {
     "model_module": "@jupyter-widgets/controls",
     "model_module_version": "1.5.0",
     "model_name": "HTMLModel",
     "state": {
      "_dom_classes": [],
      "_model_module": "@jupyter-widgets/controls",
      "_model_module_version": "1.5.0",
      "_model_name": "HTMLModel",
      "_view_count": null,
      "_view_module": "@jupyter-widgets/controls",
      "_view_module_version": "1.5.0",
      "_view_name": "HTMLView",
      "description": "",
      "description_tooltip": null,
      "layout": "IPY_MODEL_3b119211b51a4c1e847bf9c8e2fbd28c",
      "placeholder": "​",
      "style": "IPY_MODEL_ad5f99fdfdd942fab037f03f0f6c9107",
      "value": "Map: 100%"
     }
    },
    "673061059cb64053896079a0de7d3458": {
     "model_module": "@jupyter-widgets/base",
     "model_module_version": "1.2.0",
     "model_name": "LayoutModel",
     "state": {
      "_model_module": "@jupyter-widgets/base",
      "_model_module_version": "1.2.0",
      "_model_name": "LayoutModel",
      "_view_count": null,
      "_view_module": "@jupyter-widgets/base",
      "_view_module_version": "1.2.0",
      "_view_name": "LayoutView",
      "align_content": null,
      "align_items": null,
      "align_self": null,
      "border": null,
      "bottom": null,
      "display": null,
      "flex": null,
      "flex_flow": null,
      "grid_area": null,
      "grid_auto_columns": null,
      "grid_auto_flow": null,
      "grid_auto_rows": null,
      "grid_column": null,
      "grid_gap": null,
      "grid_row": null,
      "grid_template_areas": null,
      "grid_template_columns": null,
      "grid_template_rows": null,
      "height": null,
      "justify_content": null,
      "justify_items": null,
      "left": null,
      "margin": null,
      "max_height": null,
      "max_width": null,
      "min_height": null,
      "min_width": null,
      "object_fit": null,
      "object_position": null,
      "order": null,
      "overflow": null,
      "overflow_x": null,
      "overflow_y": null,
      "padding": null,
      "right": null,
      "top": null,
      "visibility": null,
      "width": null
     }
    },
    "6c83dd832f784383aa67a7bac1c81722": {
     "model_module": "@jupyter-widgets/controls",
     "model_module_version": "1.5.0",
     "model_name": "HBoxModel",
     "state": {
      "_dom_classes": [],
      "_model_module": "@jupyter-widgets/controls",
      "_model_module_version": "1.5.0",
      "_model_name": "HBoxModel",
      "_view_count": null,
      "_view_module": "@jupyter-widgets/controls",
      "_view_module_version": "1.5.0",
      "_view_name": "HBoxView",
      "box_style": "",
      "children": [
       "IPY_MODEL_02b048fcb50c451d89964ee93405cb93",
       "IPY_MODEL_f7d0f2a7a7df4589b2ff1ea0562b8ae5",
       "IPY_MODEL_ce5267e4265c49b08e066b4a5806e8cf"
      ],
      "layout": "IPY_MODEL_c7a0ffa43bfd45bb82a110520ef065c6"
     }
    },
    "6fc3ad2df4a64a2aaba0d4567e3a9277": {
     "model_module": "@jupyter-widgets/base",
     "model_module_version": "1.2.0",
     "model_name": "LayoutModel",
     "state": {
      "_model_module": "@jupyter-widgets/base",
      "_model_module_version": "1.2.0",
      "_model_name": "LayoutModel",
      "_view_count": null,
      "_view_module": "@jupyter-widgets/base",
      "_view_module_version": "1.2.0",
      "_view_name": "LayoutView",
      "align_content": null,
      "align_items": null,
      "align_self": null,
      "border": null,
      "bottom": null,
      "display": null,
      "flex": null,
      "flex_flow": null,
      "grid_area": null,
      "grid_auto_columns": null,
      "grid_auto_flow": null,
      "grid_auto_rows": null,
      "grid_column": null,
      "grid_gap": null,
      "grid_row": null,
      "grid_template_areas": null,
      "grid_template_columns": null,
      "grid_template_rows": null,
      "height": null,
      "justify_content": null,
      "justify_items": null,
      "left": null,
      "margin": null,
      "max_height": null,
      "max_width": null,
      "min_height": null,
      "min_width": null,
      "object_fit": null,
      "object_position": null,
      "order": null,
      "overflow": null,
      "overflow_x": null,
      "overflow_y": null,
      "padding": null,
      "right": null,
      "top": null,
      "visibility": null,
      "width": null
     }
    },
    "908c81b282f64785b4fa729646b00c98": {
     "model_module": "@jupyter-widgets/controls",
     "model_module_version": "1.5.0",
     "model_name": "DescriptionStyleModel",
     "state": {
      "_model_module": "@jupyter-widgets/controls",
      "_model_module_version": "1.5.0",
      "_model_name": "DescriptionStyleModel",
      "_view_count": null,
      "_view_module": "@jupyter-widgets/base",
      "_view_module_version": "1.2.0",
      "_view_name": "StyleView",
      "description_width": ""
     }
    },
    "9f3f09b8e4bc411880e0d389c2043a88": {
     "model_module": "@jupyter-widgets/base",
     "model_module_version": "1.2.0",
     "model_name": "LayoutModel",
     "state": {
      "_model_module": "@jupyter-widgets/base",
      "_model_module_version": "1.2.0",
      "_model_name": "LayoutModel",
      "_view_count": null,
      "_view_module": "@jupyter-widgets/base",
      "_view_module_version": "1.2.0",
      "_view_name": "LayoutView",
      "align_content": null,
      "align_items": null,
      "align_self": null,
      "border": null,
      "bottom": null,
      "display": null,
      "flex": null,
      "flex_flow": null,
      "grid_area": null,
      "grid_auto_columns": null,
      "grid_auto_flow": null,
      "grid_auto_rows": null,
      "grid_column": null,
      "grid_gap": null,
      "grid_row": null,
      "grid_template_areas": null,
      "grid_template_columns": null,
      "grid_template_rows": null,
      "height": null,
      "justify_content": null,
      "justify_items": null,
      "left": null,
      "margin": null,
      "max_height": null,
      "max_width": null,
      "min_height": null,
      "min_width": null,
      "object_fit": null,
      "object_position": null,
      "order": null,
      "overflow": null,
      "overflow_x": null,
      "overflow_y": null,
      "padding": null,
      "right": null,
      "top": null,
      "visibility": null,
      "width": null
     }
    },
    "ad5f99fdfdd942fab037f03f0f6c9107": {
     "model_module": "@jupyter-widgets/controls",
     "model_module_version": "1.5.0",
     "model_name": "DescriptionStyleModel",
     "state": {
      "_model_module": "@jupyter-widgets/controls",
      "_model_module_version": "1.5.0",
      "_model_name": "DescriptionStyleModel",
      "_view_count": null,
      "_view_module": "@jupyter-widgets/base",
      "_view_module_version": "1.2.0",
      "_view_name": "StyleView",
      "description_width": ""
     }
    },
    "b45860c163b142189b6eb2eaacdcc1f4": {
     "model_module": "@jupyter-widgets/controls",
     "model_module_version": "1.5.0",
     "model_name": "ProgressStyleModel",
     "state": {
      "_model_module": "@jupyter-widgets/controls",
      "_model_module_version": "1.5.0",
      "_model_name": "ProgressStyleModel",
      "_view_count": null,
      "_view_module": "@jupyter-widgets/base",
      "_view_module_version": "1.2.0",
      "_view_name": "StyleView",
      "bar_color": null,
      "description_width": ""
     }
    },
    "c6c6c1949f1b4bbc9624647c4640dff9": {
     "model_module": "@jupyter-widgets/controls",
     "model_module_version": "1.5.0",
     "model_name": "HBoxModel",
     "state": {
      "_dom_classes": [],
      "_model_module": "@jupyter-widgets/controls",
      "_model_module_version": "1.5.0",
      "_model_name": "HBoxModel",
      "_view_count": null,
      "_view_module": "@jupyter-widgets/controls",
      "_view_module_version": "1.5.0",
      "_view_name": "HBoxView",
      "box_style": "",
      "children": [
       "IPY_MODEL_52c005c417a84f9aa9604239dd62197e",
       "IPY_MODEL_f5926d20d7dc4bc5a784126f57867a59",
       "IPY_MODEL_49be6b548baf43c5bcd1091e2bfd56f6"
      ],
      "layout": "IPY_MODEL_ebfc99985a16470e8e49c9b788c18302"
     }
    },
    "c7a0ffa43bfd45bb82a110520ef065c6": {
     "model_module": "@jupyter-widgets/base",
     "model_module_version": "1.2.0",
     "model_name": "LayoutModel",
     "state": {
      "_model_module": "@jupyter-widgets/base",
      "_model_module_version": "1.2.0",
      "_model_name": "LayoutModel",
      "_view_count": null,
      "_view_module": "@jupyter-widgets/base",
      "_view_module_version": "1.2.0",
      "_view_name": "LayoutView",
      "align_content": null,
      "align_items": null,
      "align_self": null,
      "border": null,
      "bottom": null,
      "display": null,
      "flex": null,
      "flex_flow": null,
      "grid_area": null,
      "grid_auto_columns": null,
      "grid_auto_flow": null,
      "grid_auto_rows": null,
      "grid_column": null,
      "grid_gap": null,
      "grid_row": null,
      "grid_template_areas": null,
      "grid_template_columns": null,
      "grid_template_rows": null,
      "height": null,
      "justify_content": null,
      "justify_items": null,
      "left": null,
      "margin": null,
      "max_height": null,
      "max_width": null,
      "min_height": null,
      "min_width": null,
      "object_fit": null,
      "object_position": null,
      "order": null,
      "overflow": null,
      "overflow_x": null,
      "overflow_y": null,
      "padding": null,
      "right": null,
      "top": null,
      "visibility": null,
      "width": null
     }
    },
    "ce5267e4265c49b08e066b4a5806e8cf": {
     "model_module": "@jupyter-widgets/controls",
     "model_module_version": "1.5.0",
     "model_name": "HTMLModel",
     "state": {
      "_dom_classes": [],
      "_model_module": "@jupyter-widgets/controls",
      "_model_module_version": "1.5.0",
      "_model_name": "HTMLModel",
      "_view_count": null,
      "_view_module": "@jupyter-widgets/controls",
      "_view_module_version": "1.5.0",
      "_view_name": "HTMLView",
      "description": "",
      "description_tooltip": null,
      "layout": "IPY_MODEL_9f3f09b8e4bc411880e0d389c2043a88",
      "placeholder": "​",
      "style": "IPY_MODEL_da44f8d632714e7d89b2222686eafa5f",
      "value": " 1440/1440 [00:00&lt;00:00, 2639.12 examples/s]"
     }
    },
    "da44f8d632714e7d89b2222686eafa5f": {
     "model_module": "@jupyter-widgets/controls",
     "model_module_version": "1.5.0",
     "model_name": "DescriptionStyleModel",
     "state": {
      "_model_module": "@jupyter-widgets/controls",
      "_model_module_version": "1.5.0",
      "_model_name": "DescriptionStyleModel",
      "_view_count": null,
      "_view_module": "@jupyter-widgets/base",
      "_view_module_version": "1.2.0",
      "_view_name": "StyleView",
      "description_width": ""
     }
    },
    "e1ec82f4ca08434b85d3329bad4bf301": {
     "model_module": "@jupyter-widgets/base",
     "model_module_version": "1.2.0",
     "model_name": "LayoutModel",
     "state": {
      "_model_module": "@jupyter-widgets/base",
      "_model_module_version": "1.2.0",
      "_model_name": "LayoutModel",
      "_view_count": null,
      "_view_module": "@jupyter-widgets/base",
      "_view_module_version": "1.2.0",
      "_view_name": "LayoutView",
      "align_content": null,
      "align_items": null,
      "align_self": null,
      "border": null,
      "bottom": null,
      "display": null,
      "flex": null,
      "flex_flow": null,
      "grid_area": null,
      "grid_auto_columns": null,
      "grid_auto_flow": null,
      "grid_auto_rows": null,
      "grid_column": null,
      "grid_gap": null,
      "grid_row": null,
      "grid_template_areas": null,
      "grid_template_columns": null,
      "grid_template_rows": null,
      "height": null,
      "justify_content": null,
      "justify_items": null,
      "left": null,
      "margin": null,
      "max_height": null,
      "max_width": null,
      "min_height": null,
      "min_width": null,
      "object_fit": null,
      "object_position": null,
      "order": null,
      "overflow": null,
      "overflow_x": null,
      "overflow_y": null,
      "padding": null,
      "right": null,
      "top": null,
      "visibility": null,
      "width": null
     }
    },
    "ebfc99985a16470e8e49c9b788c18302": {
     "model_module": "@jupyter-widgets/base",
     "model_module_version": "1.2.0",
     "model_name": "LayoutModel",
     "state": {
      "_model_module": "@jupyter-widgets/base",
      "_model_module_version": "1.2.0",
      "_model_name": "LayoutModel",
      "_view_count": null,
      "_view_module": "@jupyter-widgets/base",
      "_view_module_version": "1.2.0",
      "_view_name": "LayoutView",
      "align_content": null,
      "align_items": null,
      "align_self": null,
      "border": null,
      "bottom": null,
      "display": null,
      "flex": null,
      "flex_flow": null,
      "grid_area": null,
      "grid_auto_columns": null,
      "grid_auto_flow": null,
      "grid_auto_rows": null,
      "grid_column": null,
      "grid_gap": null,
      "grid_row": null,
      "grid_template_areas": null,
      "grid_template_columns": null,
      "grid_template_rows": null,
      "height": null,
      "justify_content": null,
      "justify_items": null,
      "left": null,
      "margin": null,
      "max_height": null,
      "max_width": null,
      "min_height": null,
      "min_width": null,
      "object_fit": null,
      "object_position": null,
      "order": null,
      "overflow": null,
      "overflow_x": null,
      "overflow_y": null,
      "padding": null,
      "right": null,
      "top": null,
      "visibility": null,
      "width": null
     }
    },
    "ed9744b33f834485b653da828cf72026": {
     "model_module": "@jupyter-widgets/controls",
     "model_module_version": "1.5.0",
     "model_name": "DescriptionStyleModel",
     "state": {
      "_model_module": "@jupyter-widgets/controls",
      "_model_module_version": "1.5.0",
      "_model_name": "DescriptionStyleModel",
      "_view_count": null,
      "_view_module": "@jupyter-widgets/base",
      "_view_module_version": "1.2.0",
      "_view_name": "StyleView",
      "description_width": ""
     }
    },
    "ef60343739754ac7a5d61a82749f2f30": {
     "model_module": "@jupyter-widgets/controls",
     "model_module_version": "1.5.0",
     "model_name": "ProgressStyleModel",
     "state": {
      "_model_module": "@jupyter-widgets/controls",
      "_model_module_version": "1.5.0",
      "_model_name": "ProgressStyleModel",
      "_view_count": null,
      "_view_module": "@jupyter-widgets/base",
      "_view_module_version": "1.2.0",
      "_view_name": "StyleView",
      "bar_color": null,
      "description_width": ""
     }
    },
    "f5926d20d7dc4bc5a784126f57867a59": {
     "model_module": "@jupyter-widgets/controls",
     "model_module_version": "1.5.0",
     "model_name": "FloatProgressModel",
     "state": {
      "_dom_classes": [],
      "_model_module": "@jupyter-widgets/controls",
      "_model_module_version": "1.5.0",
      "_model_name": "FloatProgressModel",
      "_view_count": null,
      "_view_module": "@jupyter-widgets/controls",
      "_view_module_version": "1.5.0",
      "_view_name": "ProgressView",
      "bar_style": "success",
      "description": "",
      "description_tooltip": null,
      "layout": "IPY_MODEL_6fc3ad2df4a64a2aaba0d4567e3a9277",
      "max": 160,
      "min": 0,
      "orientation": "horizontal",
      "style": "IPY_MODEL_ef60343739754ac7a5d61a82749f2f30",
      "value": 160
     }
    },
    "f7d0f2a7a7df4589b2ff1ea0562b8ae5": {
     "model_module": "@jupyter-widgets/controls",
     "model_module_version": "1.5.0",
     "model_name": "FloatProgressModel",
     "state": {
      "_dom_classes": [],
      "_model_module": "@jupyter-widgets/controls",
      "_model_module_version": "1.5.0",
      "_model_name": "FloatProgressModel",
      "_view_count": null,
      "_view_module": "@jupyter-widgets/controls",
      "_view_module_version": "1.5.0",
      "_view_name": "ProgressView",
      "bar_style": "success",
      "description": "",
      "description_tooltip": null,
      "layout": "IPY_MODEL_1173b7a21b3a4792bda7baa084fc5147",
      "max": 1440,
      "min": 0,
      "orientation": "horizontal",
      "style": "IPY_MODEL_b45860c163b142189b6eb2eaacdcc1f4",
      "value": 1440
     }
    }
   }
  }
 },
 "nbformat": 4,
 "nbformat_minor": 5
}
