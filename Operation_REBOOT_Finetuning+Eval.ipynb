{
 "cells": [
  {
   "cell_type": "markdown",
   "id": "yl-PKGEcT4Rm",
   "metadata": {
    "id": "yl-PKGEcT4Rm"
   },
   "source": [
    "<p align=\"center\">\n",
    "<img src=\"http://wandb.me/logo-im-png\" width=\"800\" alt=\"Weights & Biases\" />\n",
    "</p>"
   ]
  },
  {
   "cell_type": "markdown",
   "id": "e6ae8d5f",
   "metadata": {
    "id": "e6ae8d5f"
   },
   "source": [
    "# 🪐 Operation REBOOT: Mission Start\n",
    "\n",
    "Welcome, **Neural Architect**. The ship's AI core is down. Your job: fine-tune a foundational model with astronomical data to restore its deep space knowledge. This notebook will walk you through all the necessary steps and even help you test and evaluate your final model. \n",
    "\n",
    "**Your mission:**\n",
    "- Load and adjust the data \n",
    "- Configure training arguments\n",
    "- Launch training and monitor with **Weights & Biases (W&B)**\n",
    "- Test and evaluate your fine-tuned model\n",
    "\n",
    "All systems go. Let's bring this vessel back online."
   ]
  },
  {
   "cell_type": "markdown",
   "id": "Z4hJWD_fQ_CA",
   "metadata": {
    "id": "Z4hJWD_fQ_CA"
   },
   "source": [
    "#### Install and Import the required libraries"
   ]
  },
  {
   "cell_type": "code",
   "execution_count": null,
   "id": "udsFRNPeQ-WY",
   "metadata": {
    "colab": {
     "base_uri": "https://localhost:8080/"
    },
    "id": "udsFRNPeQ-WY",
    "outputId": "20101bfd-1aa4-4f0f-ece2-0ed51d41503e"
   },
   "outputs": [],
   "source": [
    "!pip install transformers datasets accelerate wandb trl huggingface_hub hf-transfer bitsandbytes peft torchvision pandas numpy --force-reinstall -qqq"
   ]
  },
  {
   "cell_type": "code",
   "execution_count": null,
   "id": "Lcd7lpzkRH5a",
   "metadata": {
    "id": "Lcd7lpzkRH5a"
   },
   "outputs": [],
   "source": [
    "import wandb\n",
    "\n",
    "import json\n",
    "import math\n",
    "import random\n",
    "from pathlib import Path\n",
    "from datetime import datetime\n",
    "import pytz\n",
    "import random\n",
    "\n",
    "\n",
    "import torch\n",
    "import torchvision\n",
    "import pandas as pd\n",
    "from datasets import Dataset\n",
    "from transformers import TrainingArguments, Trainer"
   ]
  },
  {
   "cell_type": "code",
   "execution_count": null,
   "id": "53e039a1-4194-4ae4-8338-ed31bd097d89",
   "metadata": {},
   "outputs": [],
   "source": [
    "from utilities.helpers import * #helper functions used throughout our notebook. Take a peek here while your training job runs."
   ]
  },
  {
   "cell_type": "markdown",
   "id": "e022b8ad",
   "metadata": {
    "id": "e022b8ad"
   },
   "source": [
    "## 🔌 Connect Neural Telemetry (W&B Setup)"
   ]
  },
  {
   "cell_type": "code",
   "execution_count": null,
   "id": "f5c79fd6",
   "metadata": {
    "colab": {
     "base_uri": "https://localhost:8080/"
    },
    "id": "f5c79fd6",
    "outputId": "bc53d709-9eb1-419a-cdda-9bac5d1ff6ea"
   },
   "outputs": [],
   "source": [
    "# Wait to be prompted to authenticate your wandb account \n",
    "# You can find your API key in your browser here: https://wandb.ai/authorize\n",
    "# Paste an API key from your profile and hit enter:\n",
    "wandb.login()"
   ]
  },
  {
   "cell_type": "code",
   "execution_count": null,
   "id": "b2252cad",
   "metadata": {
    "id": "b2252cad"
   },
   "outputs": [],
   "source": [
    "WANDB_PROJECT_NAME = \"Astros-FT-Workshop\"\n",
    "WANDB_ENTITY = \"FT-Testing\" #Set your W&B Entity (check quest page)\n",
    "WORKSHOP_TEAM_NAME = \"Wandb_Crew\" #Set to your Workshop Team Name (check quest page)"
   ]
  },
  {
   "cell_type": "markdown",
   "id": "b67257b8",
   "metadata": {
    "id": "b67257b8"
   },
   "source": [
    "## 🧪 Dataset Control Room\n",
    "Adjust the dataset and prepare the astronomical data for training."
   ]
  },
  {
   "cell_type": "markdown",
   "id": "e3f8b93f",
   "metadata": {
    "id": "e3f8b93f"
   },
   "source": [
    "## 🌎 Initialize Experiment, Read Data, Split Data ☄️\n",
    "\n",
    "In this section, we:\n",
    "\n",
    "* Retrieve the Astros Dataset from [W&B Registry FC_FT_Workshop_Dataset collection](https://wandb.ai/orgs/FullyConnected-2025-Workshops/registry/dataset?selectionPath=fullyconnected-2025-workshops%2Fwandb-registry-dataset%2FFC_FT_Workshop_Dataset&view=versions) \n",
    "* Load the Astro Dataset containing universe-related Q&A data.\n",
    "* Create prompts from the question/answer pairs & load into a pandas dataframe\n",
    "\n",
    "✅ All the heavy lifting is done here automatically — no manual setup needed"
   ]
  },
  {
   "cell_type": "markdown",
   "id": "f9239842",
   "metadata": {
    "id": "f9239842"
   },
   "source": [
    "#### Let's prepare our training dataset"
   ]
  },
  {
   "cell_type": "code",
   "execution_count": null,
   "id": "4602a18a",
   "metadata": {
    "colab": {
     "base_uri": "https://localhost:8080/",
     "height": 436
    },
    "id": "4602a18a",
    "outputId": "ec723b7f-2c25-4b41-a2b4-3eafc276fdae"
   },
   "outputs": [],
   "source": [
    "local_tz = pytz.timezone(\"US/Pacific\")\n",
    "timestamp = datetime.now(local_tz).strftime(\"%H%M\")\n",
    "\n",
    "# Step 1: Initialize W&B run and download dataset\n",
    "print(\"Step 1: Downloading dataset from Weights & Biases...\")\n",
    "run = wandb.init(entity=WANDB_ENTITY,\n",
    "                 project=WANDB_PROJECT_NAME,\n",
    "                 id=f\"Operation_Reboot_{timestamp}\",\n",
    "                 resume=\"allow\")\n",
    "\n",
    "# Download the dataset artifact\n",
    "artifact = run.use_artifact('wandb-registry-dataset/FC_FT_Workshop_Dataset:v5', type='dataset')\n",
    "dataset_dir = artifact.download()\n",
    "print(\"✅ Dataset downloaded successfully!\")\n",
    "\n",
    "# Step 2: Load and prepare datasets\n",
    "df_train, training_dataset = load_and_prepare_dataset(dataset_dir, \"astro_dataset_train.jsonl\", \"training\") #look at the helper fuctions if you're interested in how we prepare the data\n",
    "\n",
    "# Print dataset statistics\n",
    "print(\"\\nDataset Statistics:\")\n",
    "print(f\"Training examples: {len(df_train)}\")\n",
    "print(\"\\nExample prompt format:\")\n",
    "print(df_train['text'].iloc[0])"
   ]
  },
  {
   "cell_type": "markdown",
   "id": "51e2ea11-d96b-40d6-9448-30c6dc3c2223",
   "metadata": {},
   "source": [
    "### 🚩 Checkpoint 🚩\n",
    "\n",
    "You've reached your first checkpoint. Follow the link above to see your run in the W&B environment. Grab the URL of the run and submit it on the quest page to get points"
   ]
  },
  {
   "cell_type": "markdown",
   "id": "9045aafb",
   "metadata": {
    "id": "9045aafb"
   },
   "source": [
    "### 🌌 Dataset Loaded Successfully!\n",
    "\n",
    "At this point, we've:\n",
    "* Retrieved the Astros Dataset artifact\n",
    "* Loaded it into a pandas DataFrame\n",
    "* Created prompt-style text for fine-tuning\n",
    "\n",
    "✨ Feel free to pause and explore the data before moving forward!\n",
    "\n",
    "Exploring the dataset can help you:\n",
    "\n",
    "* Understand the kinds of questions and answers the model will learn from\n",
    "* Check for any strange patterns, formatting issues, or interesting insights\n",
    "* Discover Easter Eggs\n",
    "\n",
    "🛡️ We've added soft error handling while loading, so if you accidentally modify the dataset file, you'll be warned if any loading issues happen.\n",
    "\n",
    "👉 Quick Tip: You don't need to modify the dataset to proceed, but if you want to explore, you can run things like:\n",
    "\n",
    "```\n",
    "print(df_train.sample(5))\n",
    "print(df_train['question'].apply(len).describe())\n",
    "print(df_train['answer'].apply(len).describe())\n",
    "```\n",
    "\n",
    "When you're ready, move on to loading the model and tokenizing the dataset!"
   ]
  },
  {
   "cell_type": "markdown",
   "id": "7001ed2e",
   "metadata": {
    "id": "7001ed2e"
   },
   "source": [
    "## 🧠 Model Vault: Download & Configure the Base Model"
   ]
  },
  {
   "cell_type": "markdown",
   "id": "e5caa9d0",
   "metadata": {
    "id": "e5caa9d0"
   },
   "source": [
    "## 🚀 Load Pretrained Model and Prepare Dataset for Fine-Tuning 🌠\n",
    "In this section, we:\n",
    "\n",
    "* Retrieve the Model to Finetune from [W&B Registry FC_FT_Workshop_Model](https://wandb.ai/orgs/FullyConnected-2025-Workshops/registry/model?selectionPath=fullyconnected-2025-workshops%2Fwandb-registry-model%2FFC_FT_Workshop_Model&view=versions) \n",
    "* Select a pretrained language model.\n",
    "* Split the dataset into training and validation sets.\n",
    "* Finally, load the model and tokenizers to prepare for finetuning. \n",
    "\n",
    "✅ All the setup for model loading, tokenization, and data splitting is handled for you — no manual steps required!"
   ]
  },
  {
   "cell_type": "markdown",
   "id": "Sblwkf4QihQZ",
   "metadata": {
    "id": "Sblwkf4QihQZ"
   },
   "source": [
    "### Select Model\n",
    "You will be prompted to select one of the following models\n",
    "\n",
    "*   Option 1: [falcon-rw-1b](https://huggingface.co/tiiuae/falcon-rw-1b)\n",
    "*   Option 2: [TinyLlama](https://huggingface.co/TinyLlama/TinyLlama-1.1B-Chat-v1.0)\n"
   ]
  },
  {
   "cell_type": "code",
   "execution_count": null,
   "id": "WLBfMTo6h5sr",
   "metadata": {
    "colab": {
     "base_uri": "https://localhost:8080/",
     "height": 626
    },
    "id": "WLBfMTo6h5sr",
    "outputId": "f49cfa52-bd51-4448-a8d6-1682dd608afe"
   },
   "outputs": [],
   "source": [
    "model_name, version = get_model_from_wandb(WANDB_ENTITY, WANDB_PROJECT_NAME, run_id=f\"Operation_Reboot_{timestamp}\")"
   ]
  },
  {
   "cell_type": "markdown",
   "id": "26597b6b",
   "metadata": {
    "id": "26597b6b"
   },
   "source": [
    "\n",
    "\n",
    "Next, we'll make a few adjustments to ensure the model handles padding correctly,\n",
    "and then prepare our dataset for training by tokenizing the input prompts.\n"
   ]
  },
  {
   "cell_type": "markdown",
   "id": "1dff0e01",
   "metadata": {
    "id": "1dff0e01"
   },
   "source": [
    "## 🔄 Tokenize & Split: Format Data for Finetuning"
   ]
  },
  {
   "cell_type": "markdown",
   "id": "c6780204",
   "metadata": {
    "id": "c6780204"
   },
   "source": [
    "#### Load the datasets\n",
    "\n",
    "You can modify how our training data is passed to our training script to finetune the model. Make sure to analyze the data so you can select an appropriate **Sample Size** and  **Train/Test split** for the finetuning process.\n"
   ]
  },
  {
   "cell_type": "code",
   "execution_count": null,
   "id": "61faf47c",
   "metadata": {
    "colab": {
     "base_uri": "https://localhost:8080/",
     "height": 98,
     "referenced_widgets": [
      "6c83dd832f784383aa67a7bac1c81722",
      "02b048fcb50c451d89964ee93405cb93",
      "f7d0f2a7a7df4589b2ff1ea0562b8ae5",
      "ce5267e4265c49b08e066b4a5806e8cf",
      "c7a0ffa43bfd45bb82a110520ef065c6",
      "673061059cb64053896079a0de7d3458",
      "908c81b282f64785b4fa729646b00c98",
      "1173b7a21b3a4792bda7baa084fc5147",
      "b45860c163b142189b6eb2eaacdcc1f4",
      "9f3f09b8e4bc411880e0d389c2043a88",
      "da44f8d632714e7d89b2222686eafa5f",
      "c6c6c1949f1b4bbc9624647c4640dff9",
      "52c005c417a84f9aa9604239dd62197e",
      "f5926d20d7dc4bc5a784126f57867a59",
      "49be6b548baf43c5bcd1091e2bfd56f6",
      "ebfc99985a16470e8e49c9b788c18302",
      "3b119211b51a4c1e847bf9c8e2fbd28c",
      "ad5f99fdfdd942fab037f03f0f6c9107",
      "6fc3ad2df4a64a2aaba0d4567e3a9277",
      "ef60343739754ac7a5d61a82749f2f30",
      "e1ec82f4ca08434b85d3329bad4bf301",
      "ed9744b33f834485b653da828cf72026"
     ]
    },
    "id": "61faf47c",
    "outputId": "a6bde064-b7fb-4d79-c860-14a63d123c99"
   },
   "outputs": [],
   "source": [
    "sample_size = 100 # choose between 100 and 1600 samples to train. More samples can improve your model, but increase training time\n",
    "train_test_split = 0.1 # choose a float value between 0 and 1\n",
    "\n",
    "training_sample = training_dataset.shuffle(seed=42).select(range(sample_size)) "
   ]
  },
  {
   "cell_type": "markdown",
   "id": "d54b859f-98da-4084-8848-4954e9e4ab44",
   "metadata": {},
   "source": [
    "#### Load the model, tokenizers, and tokenize the dataset"
   ]
  },
  {
   "cell_type": "code",
   "execution_count": null,
   "id": "w1DD36UhE0QJ",
   "metadata": {
    "id": "w1DD36UhE0QJ"
   },
   "outputs": [],
   "source": [
    "model, tokenizer, model_name = load_model_and_tokenizer(model_name, version)\n",
    "train_dataset, eval_dataset = tokenized_train_test(training_dataset, train_test_split, tokenizer)"
   ]
  },
  {
   "cell_type": "markdown",
   "id": "e08b86f5",
   "metadata": {
    "id": "e08b86f5"
   },
   "source": [
    "## ⚙️ Training Command Center\n",
    "Set training arguments to guide your model's learning trajectory."
   ]
  },
  {
   "cell_type": "markdown",
   "id": "5e65c01f",
   "metadata": {
    "id": "5e65c01f"
   },
   "source": [
    "## 🛰️ Training Arguments (Where You Fine-Tune Settings) 🌙\n",
    "\n",
    "This is where you'll do most of your experimentation! 🎯\n",
    "\n",
    "The `TrainingArguments` object controls how your model is fine-tuned, including:\n",
    "\n",
    "* Batch size\n",
    "* Number of epochs\n",
    "* Learning rate\n",
    "* Warmup steps\n",
    "* Mixed precision (fp16) for faster training\n",
    "* Checkpoint saving\n",
    "* Reporting to Weights & Biases and more......\n",
    "\n",
    "You can modify the hyperparameters here to see how different settings impact model performance.\n",
    "\n",
    "####  💡 Create your own Fine-Tuning Strategy:\n",
    "\n",
    "🔧 learning_rate  \n",
    "Controls how fast the model learns. Use 1e-4 to 2e-3; lower for full finetuning, higher for qlora.  \n",
    "Interacts with warmup_ratio and lr_scheduler_type — higher learning rates need more warmup.\n",
    "\n",
    "⚙️ optim  \n",
    "Selects optimizer; 'adamw_torch' is fused and faster on GPU.  \n",
    "Combine with a good learning rate and warmup for stable convergence.\n",
    "\n",
    "📈 num_train_epochs  \n",
    "Number of times the model sees the full dataset. Start with 2–5.  \n",
    "Runs with more epochs will take longer and need more compute. \n",
    "\n",
    "📊 gradient_accumulation_steps  \n",
    "Simulates large batch sizes by accumulating gradients across steps.  \n",
    "We will use large batch sizes. Keep this low to speed up training.\n",
    "\n",
    "📦 per_device_train_batch_size  \n",
    "Controls the number of samples processed per gpu per step.  \n",
    "Larger batch = more stable gradients but more memory usage.\n",
    "Our GPU is not memory-constrained, keep this high.\n",
    "\n",
    "🔥 warmup_ratio  \n",
    "Gradually ramps up learning rate to avoid early divergence.  \n",
    "Set between 0.05–0.1, especially important with higher learning rates.\n",
    "\n",
    "📉 lr_scheduler_type  \n",
    "Controls how learning rate decays. 'cosine' gives smoother transitions, 'linear' is simpler.  \n",
    "Works in tandem with warmup_ratio and total training steps.\n",
    "\n",
    "⚡ fp16 / bf16  \n",
    "Enables mixed-precision training for faster speed and lower memory use.  \n",
    "Use bf16 on newer GPUs (A100+, H100), fp16 works best for our A10G GPU.\n",
    "\n",
    "🧠 gradient_checkpointing  \n",
    "Reduces memory by recomputing activations during backward pass.  \n",
    "Useful for large models on smaller gpus; increases compute cost.\n",
    "\n",
    "💾 save_strategy / save_total_limit  \n",
    "Determines when and how often to save models. 'epoch' is safer for llms.  \n",
    "Limit total checkpoints (e.g., 5) to save disk space.\n",
    "\n",
    "🧪 eval_strategy  \n",
    "Controls evaluation frequency. Use 'epoch' for stability, 'steps' for faster feedback.  \n",
    "Combine with logging_steps for clear model monitoring.\n",
    "\n",
    "📏 group_by_length  \n",
    "Batches examples of similar length together.  \n",
    "Speeds up training when working with variable-length sequences.\n",
    "\n",
    "📐 auto_find_batch_size  \n",
    "Automatically adjusts batch size to prevent OOM errors.  \n",
    "\n",
    "📝 logging_steps  \n",
    "How often to log metrics like loss and learning rate.  \n",
    "Use 10–50 to balance visibility with log noise.\n",
    "\n",
    "📊 report_to  \n",
    "Set to 'wandb' to enable experiment tracking, charts, and comparisons.  \n",
    "This will ensure we can capture our training and system metrics.\n",
    "\n",
    "🏆 metric_for_best_model  \n",
    "Automatically selects the best checkpoint based on our validation metric.  \n",
    "\n",
    "🧱 weight_decay  \n",
    "Regularization to prevent overfitting. Typical values: 0.01 to 0.1.  \n",
    "Use with higher learning rates or longer training to avoid memorization.\n",
    "\n",
    "🧹 remove_unused_columns  \n",
    "Cleans up unused columns from the dataset during training.  \n",
    "\n",
    "🔄 dataloader_num_workers / dataloader_pin_memory  \n",
    "Set workers to 4–16 for best throughput. \n",
    "\n",
    "🏷️ label_names  \n",
    "Used to identify which label columns to include in loss computation.  \n",
    "\n",
    "*Ask our team for help if you have questions about any parameters listed here*"
   ]
  },
  {
   "cell_type": "code",
   "execution_count": null,
   "id": "013c0d65",
   "metadata": {
    "id": "013c0d65"
   },
   "outputs": [],
   "source": [
    "from transformers import TrainingArguments\n",
    "\n",
    "training_args = TrainingArguments(\n",
    "    run_name=f\"fine-tuning-{model_name}-qlora\",\n",
    "    output_dir=\"./results\",\n",
    "    num_train_epochs=1, #start with 2 and go up to 10 epochs for better results\n",
    "    per_device_train_batch_size=42,\n",
    "    per_device_eval_batch_size=4,\n",
    "    dataloader_num_workers=16,\n",
    "    gradient_accumulation_steps=1,\n",
    "    warmup_ratio=0.1,\n",
    "    weight_decay=0.01,\n",
    "    logging_dir=\"./logs\",\n",
    "    logging_steps=10,\n",
    "    do_train=True,\n",
    "    do_eval=True,\n",
    "    fp16=True,\n",
    "    bf16=False,\n",
    "    gradient_checkpointing=False, #Choose to store the full forward-pass activations in GPU RAM\n",
    "    group_by_length=True,\n",
    "    report_to=[\"wandb\"],\n",
    "    remove_unused_columns=True,\n",
    "    dataloader_pin_memory=True,\n",
    "    optim=\"adamw_torch\", #See https://huggingface.co/docs/transformers/v4.51.3/en/perf_train_gpu_one#optimizers\n",
    "    learning_rate=2e-3,\n",
    "    lr_scheduler_type=\"cosine\", # See https://huggingface.co/docs/transformers/en/main_classes/optimizer_schedules#transformers.SchedulerType\n",
    "    auto_find_batch_size=False,\n",
    "    eval_strategy=\"epoch\",\n",
    "    save_strategy=\"epoch\",\n",
    "    save_total_limit=5,\n",
    "    load_best_model_at_end=False,\n",
    "    metric_for_best_model=\"eval_loss\",\n",
    "    logging_strategy=\"steps\",\n",
    "    label_names=[\"labels\"],\n",
    ")"
   ]
  },
  {
   "cell_type": "markdown",
   "id": "a9dcc2dd",
   "metadata": {
    "id": "a9dcc2dd"
   },
   "source": [
    "## 🛰️ Engage Training Tracker\n",
    "Launch the model and track training live with W&B."
   ]
  },
  {
   "cell_type": "markdown",
   "id": "7faff1ee",
   "metadata": {
    "id": "7faff1ee"
   },
   "source": [
    "## 🔭 Initialize Trainer, Train, and Save 🌎\n",
    "\n",
    "In this final section:\n",
    "\n",
    "* We initialize the Trainer with:\n",
    "  * The model\n",
    "  * tokenizer\n",
    "  * The data\n",
    "  * The training arguments\n",
    "\n",
    "* We start training by calling trainer.train().\n",
    "* We save the fine-tuned adapter and tokenizer locally.\n",
    "* We finish the W&B run to close the logging cleanly.\n",
    "\n",
    "🧠 Reminder: After training finishes, we will test and evaluate the fine-tuned model in this notebook.\n",
    "\n",
    "🚨 Training Ahead: Be ready for 10-15 min runtimes with the default configs!\n"
   ]
  },
  {
   "cell_type": "code",
   "execution_count": null,
   "id": "050c4bfd",
   "metadata": {
    "colab": {
     "base_uri": "https://localhost:8080/",
     "height": 654
    },
    "id": "050c4bfd",
    "outputId": "eba166d0-e6fd-4e57-a776-0d578eb94695"
   },
   "outputs": [],
   "source": [
    "#Configure model for training\n",
    "model.config.use_cache = False  # Disable cache during training\n",
    "\n",
    "# Set label names for PEFT model\n",
    "model.config.label_names = [\"labels\"]\n",
    "\n",
    "# Initialize trainer with modified configuration\n",
    "trainer = Trainer(\n",
    "    model=model,\n",
    "    args=training_args,\n",
    "    train_dataset=train_dataset,\n",
    "    eval_dataset=eval_dataset,\n",
    "    data_collator=DataCollatorForLanguageModeling(\n",
    "        tokenizer=tokenizer,\n",
    "        mlm=False,\n",
    "        pad_to_multiple_of=8  # Add padding to multiple of 8 for better performance\n",
    "    ),\n",
    "    callbacks=[EarlyStoppingCallback(early_stopping_patience=3)]\n",
    ")\n",
    "\n",
    "# Enable gradient checkpointing with the new format\n",
    "if hasattr(model, \"enable_input_require_grads\"):\n",
    "    model.enable_input_require_grads()"
   ]
  },
  {
   "cell_type": "markdown",
   "id": "f7bc5c7d",
   "metadata": {
    "id": "f7bc5c7d"
   },
   "source": [
    "## ⚙ Now we kick off the training process ⚙"
   ]
  },
  {
   "cell_type": "code",
   "execution_count": null,
   "id": "93378c7e",
   "metadata": {
    "colab": {
     "base_uri": "https://localhost:8080/",
     "height": 1000
    },
    "id": "93378c7e",
    "outputId": "85122374-7278-468f-82f2-958246345a2a"
   },
   "outputs": [],
   "source": [
    "#Train\n",
    "run = wandb.init(entity=WANDB_ENTITY,\n",
    "                 project=WANDB_PROJECT_NAME,\n",
    "                 id=f\"Operation_Reboot_{timestamp}\", \n",
    "                 resume=\"allow\")\n",
    "train_output = trainer.train()"
   ]
  },
  {
   "cell_type": "markdown",
   "id": "00f4c42f",
   "metadata": {
    "id": "00f4c42f"
   },
   "source": [
    "## 💾 Save & Upload\n",
    "Preserve your fine-tuned model as a W&B artifact."
   ]
  },
  {
   "cell_type": "markdown",
   "id": "6b8e32a1",
   "metadata": {
    "id": "6b8e32a1"
   },
   "source": [
    "We will now save this model to W&B. You will need the `Full Artifact Name` from W&B to get points for completing the finetuning section."
   ]
  },
  {
   "cell_type": "markdown",
   "id": "1c5891f1",
   "metadata": {
    "id": "1c5891f1"
   },
   "source": [
    "Tracking your model in W&B can be really helpful:\n",
    "\n",
    "- You can now share this model with your team and beyond\n",
    "- W&B creates a lineage map of your model so you can see the full model lifecycle: dataset->training->final state"
   ]
  },
  {
   "cell_type": "code",
   "execution_count": null,
   "id": "f428cdbc",
   "metadata": {
    "colab": {
     "base_uri": "https://localhost:8080/",
     "height": 277
    },
    "id": "f428cdbc",
    "outputId": "4798665a-7613-4a82-eed3-2b67ba057f96"
   },
   "outputs": [],
   "source": [
    "#Saving and uploading best model - working draft\n",
    "trainer.save_model(f\"./best_model/{type(model.base_model.model).__name__}\")\n",
    "tokenizer.save_pretrained(f\"./best_model/{type(model.base_model.model).__name__}\")\n",
    "\n",
    "run = wandb.init(entity=WANDB_ENTITY,\n",
    "                 project=WANDB_PROJECT_NAME,\n",
    "                 id=f\"Operation_Reboot_{timestamp}\",\n",
    "                 resume=\"allow\")\n",
    "\n",
    "artifact = wandb.Artifact(\n",
    "    name=f\"{WORKSHOP_TEAM_NAME}-ft-best-model-{type(model.base_model.model).__name__}\",\n",
    "    type=\"model\",\n",
    "    description=\"\"\"Best FineTuned model from the Astros-FT-Workshop.\"\"\"\n",
    ")\n",
    "\n",
    "artifact.add_dir(local_path=\"./best_model\")\n",
    "\n",
    "logged_artifact = run.log_artifact(artifact)\n",
    "\n",
    "run.link_artifact(\n",
    "  artifact=logged_artifact,\n",
    "  target_path=\"wandb-registry-model/FC_FT_Workshop_FineTuned_Models\"\n",
    ")\n",
    "\n",
    "run.finish()"
   ]
  },
  {
   "cell_type": "markdown",
   "id": "7f63b4e7-ffc6-4d91-b649-3e633e3c7771",
   "metadata": {},
   "source": [
    "### 🚩 Checkpoint 🚩\n",
    "\n",
    "You've reached your second checkpoint. \n",
    "\n",
    "Navigate to wandb by clicking the link next to `View project at:` above and then click on the yellow Weights & Biases logo on the top left of the page.  \n",
    "On the left panel, under **Applications** click Registry. Find your artifact and retrieve the `Full Artifact Name` that you can submit on the quest page.\n",
    "Your team may submit up to 5 unique adapters to get points. "
   ]
  },
  {
   "cell_type": "markdown",
   "id": "1e4e0cfc-63de-40a1-94ac-47fa11092cf0",
   "metadata": {},
   "source": [
    "<img src=\"data:image/jpeg;base64,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\" width=\"1200\"/>"
   ]
  },
  {
   "cell_type": "markdown",
   "id": "2e90dd70",
   "metadata": {
    "id": "2e90dd70"
   },
   "source": [
    "## ✅ Mission Checkpoint: Model Finetuned\n",
    "\n",
    "Congratulations, Architect! You've:\n",
    "- Loaded and prepped your training dataset ✅\n",
    "- Configured a foundational model ✅\n",
    "- Finetuned it with parameter-efficient methods ✅\n",
    "- Logged your training runs and saved the final model to Weights & Biases ✅\n",
    "\n",
    "Your model is now part of your mission's neural infrastructure.\n",
    "\n",
    "Next, we prepare to test and evaluate. But first, a quick system check..."
   ]
  },
  {
   "cell_type": "markdown",
   "id": "8e953f25",
   "metadata": {
    "id": "8e953f25"
   },
   "source": [
    "## 🧰 Systems Maintenance Bay: Utilities\n",
    "\n",
    "Before testing, it's wise to flush memory and check your hardware status. Use these utilities to prepare the environment.\n",
    "\n",
    "Just like a good engineer, make sure the ship's neural bays are cleared and ready."
   ]
  },
  {
   "cell_type": "markdown",
   "id": "b761f2d7",
   "metadata": {
    "id": "b761f2d7"
   },
   "source": [
    "## Utilities 🧰"
   ]
  },
  {
   "cell_type": "code",
   "execution_count": null,
   "id": "233f922d",
   "metadata": {
    "id": "233f922d"
   },
   "outputs": [],
   "source": [
    "# -- Flush out GPU memory - when required - may require restarting the notebook\n",
    "import gc, torch\n",
    "\n",
    "try:\n",
    "    del trainer\n",
    "except: print(\"cannot release memory\")\n",
    "try:\n",
    "    del model\n",
    "except: print(\"cannot release memory\")\n",
    "try:\n",
    "    del tokenizer\n",
    "except: print(\"cannot release memory\")\n",
    "\n",
    "gc.collect()\n",
    "torch.cuda.empty_cache()\n",
    "torch.cuda.ipc_collect()\n",
    "\n",
    "wandb.finish()"
   ]
  },
  {
   "cell_type": "markdown",
   "id": "30338ddb-bacf-449e-8eae-321825cd523e",
   "metadata": {},
   "source": [
    "Let's check on our GPU."
   ]
  },
  {
   "cell_type": "code",
   "execution_count": null,
   "id": "a767a0d9",
   "metadata": {
    "colab": {
     "base_uri": "https://localhost:8080/"
    },
    "id": "a767a0d9",
    "outputId": "8e81b801-5015-4fbd-a287-5e0966f7e6f5"
   },
   "outputs": [],
   "source": [
    "!nvidia-smi"
   ]
  },
  {
   "cell_type": "markdown",
   "id": "5d0f71a7",
   "metadata": {
    "id": "5d0f71a7"
   },
   "source": [
    "## 🧪 Testing the Neural Core\n",
    "\n",
    "Now that your model is trained and uploaded, it’s time to test your new candidate neural core.\n",
    "\n",
    "You’ll load the fine-tuned model and run test prompts to ensure it responds with precision and depth, critical for deep-space operations.\n",
    "\n",
    "We’ve equipped you with a call function wrapped in `Weave`, our GenAI interface and telemetry layer."
   ]
  },
  {
   "cell_type": "markdown",
   "id": "bf60a175",
   "metadata": {
    "id": "bf60a175"
   },
   "source": [
    "## 🔧 Testing our model with the adapter🪛\n",
    "\n",
    "Let's start by creating some helper functions to load and call the model we just trained."
   ]
  },
  {
   "cell_type": "markdown",
   "id": "eefdfa6c",
   "metadata": {
    "id": "eefdfa6c"
   },
   "source": [
    "Since we created an adapter during the finetuning process, our load model function loads the original model along with our adapter using PEFT."
   ]
  },
  {
   "cell_type": "markdown",
   "id": "0e8abc80",
   "metadata": {
    "id": "0e8abc80"
   },
   "source": [
    "## 🛰️ Introducing Weave: Your AI Telemetry and Evaluation Suite\n",
    "\n",
    "**Weave** is Weights & Biases’ next-gen platform for tracking, evaluating, and visualizing GenAI applications.\n",
    "\n",
    "You'll use Weave to:\n",
    "- Log and score model generations\n",
    "- Run structured evaluations on Q&A performance\n",
    "- Compare outputs with reference answers\n",
    "\n",
    "This enables you to **quantitatively assess** how mission-ready your model is.\n",
    "\n",
    "Let’s initialize Weave and plug it into your finetuned system."
   ]
  },
  {
   "cell_type": "code",
   "execution_count": null,
   "id": "b7348cba",
   "metadata": {
    "colab": {
     "base_uri": "https://localhost:8080/"
    },
    "id": "b7348cba",
    "outputId": "8e986fcd-5e33-44ea-cee8-f34ede1d011c"
   },
   "outputs": [],
   "source": [
    "!pip install weave \"weave[scorers]\" -q"
   ]
  },
  {
   "cell_type": "code",
   "execution_count": null,
   "id": "309fd38a",
   "metadata": {
    "colab": {
     "base_uri": "https://localhost:8080/"
    },
    "id": "309fd38a",
    "outputId": "4155a61d-a420-4e3a-e7b4-ce506a9ed1f9"
   },
   "outputs": [],
   "source": [
    "import weave\n",
    "weave.init(f\"{WANDB_ENTITY}/{WANDB_PROJECT_NAME}\")"
   ]
  },
  {
   "cell_type": "markdown",
   "id": "F4vH2PsqWsDD",
   "metadata": {
    "id": "F4vH2PsqWsDD"
   },
   "source": [
    "## Calling our Local Finetuned Model"
   ]
  },
  {
   "cell_type": "markdown",
   "id": "700a6f0f",
   "metadata": {
    "id": "700a6f0f"
   },
   "source": [
    "### Load model\n",
    "\n",
    "We will now pass the finetuned adapter and the base model to be loaded as one entity that we can use. This model should be able to navigate complex astronomical questions from our evaluation dataset."
   ]
  },
  {
   "cell_type": "code",
   "execution_count": null,
   "id": "bf82b834",
   "metadata": {
    "colab": {
     "base_uri": "https://localhost:8080/"
    },
    "id": "bf82b834",
    "outputId": "5119b1d1-e3b7-47c2-ea1a-21105b2a7ca3"
   },
   "outputs": [],
   "source": [
    "base_model_dir = \"./models/falcon-rw-1b_v0\" # Path to base model - modify accordingly to fine_tuned_model/<TinyLlama_v1 or falcon-rw-1b_v0>\n",
    "adapter_dir = \"./best_model/FalconForCausalLM\" #add path to adapter dir\n",
    "\n",
    "tokenizer, model = load_finetuned_model(adapter_dir, base_model_dir)"
   ]
  },
  {
   "cell_type": "markdown",
   "id": "543a6d92-b897-4894-b269-e2b7eb706605",
   "metadata": {},
   "source": [
    "#### Generating respones from the model\n",
    "\n",
    "This function acts as our interface with the model for text-based interactions. "
   ]
  },
  {
   "cell_type": "code",
   "execution_count": null,
   "id": "473bb674",
   "metadata": {
    "colab": {
     "base_uri": "https://localhost:8080/",
     "height": 211
    },
    "id": "473bb674",
    "outputId": "c4eb4471-34d1-4095-f776-242bdb4231ab"
   },
   "outputs": [],
   "source": [
    "@weave.op()\n",
    "def call_model(question: str) -> str:\n",
    "    \"\"\"Generate an answer from your Local LLM given a prompt.\"\"\"\n",
    "\n",
    "    system_prompt = \"You are an expert in astrophysics. Please provide a concise and truthful answer to the following question:\"\n",
    "    prompt = system_prompt + \"\\n\\n\" + question + \"\\nAnswer:\"\n",
    "\n",
    "    inputs = tokenizer(prompt, return_tensors=\"pt\").to(model.device)\n",
    "    with torch.no_grad():\n",
    "        output = model.generate(**inputs, max_new_tokens=256, do_sample=False, no_repeat_ngram_size=3, repetition_penalty=1.2, eos_token_id=tokenizer.eos_token_id, pad_token_id=model.config.eos_token_id)\n",
    "    return tokenizer.decode(output[0], skip_special_tokens=True).replace(prompt, '').strip()"
   ]
  },
  {
   "cell_type": "markdown",
   "id": "bd25f02a",
   "metadata": {
    "id": "bd25f02a"
   },
   "source": [
    "## 📊 Final Check: Evaluation Protocols\n",
    "\n",
    "Your neural core is active, but is it mission-grade?\n",
    "\n",
    "Use this section to:\n",
    "- Load an evaluation dataset\n",
    "- Score model responses using embedding similarity\n",
    "- Track performance with W&B + Weave\n",
    "\n",
    "**Evaluation is critical** before deployment—it ensures your model’s reasoning is aligned with mission parameters.\n",
    "\n",
    "In this task, we will evaluate the fine-tuned models by loading them into memory and inferring locally. Once you have the evaluation results, try going back and training another model with new parameters to improve your model. Ask our team for help if you have any questions about optimizing the parameters for better results. \n",
    "\n",
    "Make sure to deploy **only** your best model as a Sagemaker endpoint. We will use that endpoint to score your submission. This task carries the most points, make sure you deploy only your best model. "
   ]
  },
  {
   "cell_type": "markdown",
   "id": "a4b39f03",
   "metadata": {
    "id": "a4b39f03"
   },
   "source": [
    "# Evaluating and Deployment\n",
    "\n",
    "This evaluation setup is very similar to the one used in the quest backend to score your model. Let's get started!"
   ]
  },
  {
   "cell_type": "markdown",
   "id": "53cf9ddb",
   "metadata": {
    "id": "53cf9ddb"
   },
   "source": [
    "## Get Evaluation Dataset\n",
    "\n",
    "We have created a public evaluation dataset that you can use to test and quantitatively evaluate your model. This is small subset of our evalaution dataset that will be used for final scoring and should provide insights into how your finetuned model is performing."
   ]
  },
  {
   "cell_type": "code",
   "execution_count": null,
   "id": "db236752",
   "metadata": {
    "colab": {
     "base_uri": "https://localhost:8080/"
    },
    "id": "db236752",
    "outputId": "2123d874-4710-4544-c9bf-aa2909dab1c2"
   },
   "outputs": [],
   "source": [
    "weave.init('fc25-wandb-admins/uncategorized')\n",
    "eval_dataset_public = weave.ref('eval_dataset_public:v2').get()"
   ]
  },
  {
   "cell_type": "markdown",
   "id": "2d915b61",
   "metadata": {
    "id": "2d915b61"
   },
   "source": [
    "## Test the model with a sample from our eval dataset\n",
    "\n",
    "Let's try running our model with some sample questions from our eval dataset. "
   ]
  },
  {
   "cell_type": "code",
   "execution_count": null,
   "id": "79f64721",
   "metadata": {
    "colab": {
     "base_uri": "https://localhost:8080/"
    },
    "id": "79f64721",
    "outputId": "71aabdb8-48ee-4498-da9e-453bacd5dbd3"
   },
   "outputs": [],
   "source": [
    "question =  random.sample(list(eval_dataset_public.rows), k=1)[0]['question'] #choose any question number between \n",
    "answer = call_model(question)\n",
    "\n",
    "print(\"🛰️  Incoming Transmission — Mission Q&A\\n\")\n",
    "print(f\"🧠 Question:\\n{question}\\n\")\n",
    "print(f\"🤖 Model Response:\\n{answer}\")\n",
    "print(f\"🤖 Refernce Asnwer:\\n{eval_dataset_public[100]['answer']}\")"
   ]
  },
  {
   "cell_type": "markdown",
   "id": "5bf1d927",
   "metadata": {
    "id": "5bf1d927"
   },
   "source": [
    "## Setup evaluation\n",
    "\n",
    "Now that we have vibe-checked our model, let's perform a quantitative analysis of its accuracy. We will use [Weave's builtin EmbeddingSimilarityScorer scorer](EmbeddingSimilarityScorer) that lets us specify any embedding model endpoint (Bedrock Titan v2 in our case) and get back an embedding similarity score.  \n",
    "\n",
    "🚨 Make sure you have requested access to the `amazon.titan-embed-text-v2:0` \n",
    "You can request access to this model from your AWS console:\n",
    "- Search for Bedrock in your console\n",
    "- Navigate to `Model Catalogue`\n",
    "- Search for `Titan Text Embeddings` model\n",
    "- On the model page click `Available to Request` and follow the access request workflow\n",
    "\n",
    "*Ask our team for help if you are not able to access the titan embedding model*"
   ]
  },
  {
   "cell_type": "code",
   "execution_count": null,
   "id": "ff0cfaee",
   "metadata": {
    "id": "ff0cfaee"
   },
   "outputs": [],
   "source": [
    "import asyncio\n",
    "from weave.scorers import EmbeddingSimilarityScorer\n",
    "similarity_scorer = EmbeddingSimilarityScorer(\n",
    "    model_id=\"amazon.titan-embed-text-v2:0\",  # will need to update this to bedrock's titan models\n",
    "    threshold=0.7\n",
    ")\n",
    "\n",
    "similarity_scorer.column_map = {\n",
    "    \"output\": \"model_output\",  # Your model's response\n",
    "    \"target\": \"answer\", # The reference response (expected)\n",
    "    \"kwargs\": \"question\"\n",
    "}"
   ]
  },
  {
   "cell_type": "code",
   "execution_count": null,
   "id": "a5479015",
   "metadata": {
    "id": "a5479015"
   },
   "outputs": [],
   "source": [
    "eval_dataset = random.sample(list(eval_dataset_public.rows), k=10) # select 10-20 samples to run evaluation against"
   ]
  },
  {
   "cell_type": "markdown",
   "id": "7022d08e-363e-4948-838c-3baeae93da9a",
   "metadata": {},
   "source": [
    "#### Kick off the Evaluation and view the results in Weave \n",
    "Let's see how well our model performs against our reference dataset of astronomical QnA.\n",
    "\n",
    "This evaluation takes about 5 minutes to run with 10 samples. Make sure to budget your time accordingly. \n",
    "\n",
    "Once you are satisfied with the model results, proceed to deployment."
   ]
  },
  {
   "cell_type": "code",
   "execution_count": null,
   "id": "533ef801",
   "metadata": {
    "colab": {
     "base_uri": "https://localhost:8080/",
     "height": 314
    },
    "id": "533ef801",
    "outputId": "55475355-aecc-4822-c3fc-9a085ff202e8"
   },
   "outputs": [],
   "source": [
    "bedrock_access() #refresh bedrock access tokens\n",
    "evaluation = weave.Evaluation(\n",
    "    evaluation_name = f\"{WORKSHOP_TEAM_NAME}_qna_eval\",\n",
    "    dataset=eval_dataset, scorers=[similarity_scorer],\n",
    "    name=\"model_qna_eval\"\n",
    "   )\n",
    "\n",
    "print(await(evaluation.evaluate(call_model)))"
   ]
  },
  {
   "cell_type": "markdown",
   "id": "282b565f",
   "metadata": {},
   "source": [
    "Now, navigate to [Weave](https://wandb.ai/) and navigate to Evaluations to see the results of your evaluation."
   ]
  },
  {
   "cell_type": "markdown",
   "id": "ec4f766f-cf0c-4e3d-b74a-6548846ff72e",
   "metadata": {},
   "source": [
    "## ⚒️ Deploy 🚀\n",
    "\n",
    "#### Merge the model and the adapter\n",
    "\n",
    "We are at the end of our task. By now, you should have some freshly trained adapters for our language models that will allow us to restore functionality to our ship. Let's take your best adapter and deploy it to our ship's inference engine.\n",
    "\n",
    "Now we will merge the adapter the best adapter from our experiments to the base model and save it as once single model. All the data we trained our adapter with is now fused with the model weights. Only do this with your best model."
   ]
  },
  {
   "cell_type": "code",
   "execution_count": null,
   "id": "7621e934",
   "metadata": {},
   "outputs": [],
   "source": [
    "# Merge the adapter weights into the base model\n",
    "model = model.merge_and_unload() # After this, it's a standard Hugging Face model\n",
    "\n",
    "# === Save merged model and tokenizer ===\n",
    "save_path = \"./merged_model_llama/\"\n",
    "\n",
    "model.save_pretrained(save_path)\n",
    "tokenizer.save_pretrained(save_path)\n",
    "\n",
    "print(f\"Merged model saved to: {save_path}\")"
   ]
  },
  {
   "cell_type": "markdown",
   "id": "c49ece9c-fe1e-499d-aa97-aa94c6ec4576",
   "metadata": {},
   "source": [
    "####  Deploy the model to a Sagemaker Endpoint\n",
    "\n",
    "We will use AWS's SageMaker Endpoint to deploy this model. This function will handle the deployment of your model and return a SageMaker endpoint name like `huggingface-pytorch-tgi-inference-2025-06-03-14-52-34-434`. Make sure to submit this on the quest page to get your model scored for the final task. \n",
    "\n",
    "You can use `llm.predict()` to test the validity of your inference endpoint before submission. "
   ]
  },
  {
   "cell_type": "code",
   "execution_count": null,
   "id": "7c8e71a4-42bc-40fb-a6e1-e7387774a4fd",
   "metadata": {},
   "outputs": [],
   "source": [
    "llm = create_sagemaker_endpoint()"
   ]
  },
  {
   "cell_type": "code",
   "execution_count": null,
   "id": "79204779",
   "metadata": {},
   "outputs": [],
   "source": [
    "llm.predict(data = {\"inputs\": \"How does the observed distribution of metals within the hot intracluster medium (ICM) of galaxy clusters provide clues about the history of metal enrichment?\",\n",
    "            \"parameters\": {\n",
    "                \"max_new_tokens\": 256,\n",
    "                \"no_repeat_ngram_size\": 3,\n",
    "                \"repetition_penalty\":1.2,\n",
    "                \"eos_token_id\":50256,\n",
    "                \"pad_token_id\":2,\n",
    "                \"do_sample\":False,\n",
    "                \"stop\": [\"|endoftext|>\"]}\n",
    "            })"
   ]
  },
  {
   "cell_type": "markdown",
   "id": "bd6ab648-6d98-42cd-916d-72636db23c66",
   "metadata": {},
   "source": [
    "### 🚩 Checkpoint 🚩\n",
    "\n",
    "You've reached the final checkpoint. In the output for the `create_sagemaker_endpoint()` function above, look for the text: \n",
    "\n",
    "```\n",
    " This is your endpoint name! Submit this on the quest page to get points\n",
    " huggingface-pytorch-tgi-inference-2025-06-09-17-11-49-923\n",
    " ```\n",
    "Copy the name of the SageMaker Endpoint and enter it into the quest page to get points!\n"
   ]
  },
  {
   "cell_type": "markdown",
   "id": "983c74a4-1ef3-4d38-aa17-c849de9fa70b",
   "metadata": {},
   "source": [
    "You made it! \n",
    "\n",
    "Your ship's neural core is restored. Make sure to go back and check all the tasks marked with 🚩 to collect all the points.\n",
    "\n",
    "Go take a break. We will see you back here shortly for `Mission 2: Operation NAVARCH`"
   ]
  },
  {
   "cell_type": "markdown",
   "id": "199e009e",
   "metadata": {},
   "source": []
  }
 ],
 "metadata": {
  "accelerator": "GPU",
  "colab": {
   "gpuType": "A100",
   "machine_shape": "hm",
   "provenance": []
  },
  "kernelspec": {
   "display_name": "conda_python3",
   "language": "python",
   "name": "conda_python3"
  },
  "language_info": {
   "codemirror_mode": {
    "name": "ipython",
    "version": 3
   },
   "file_extension": ".py",
   "mimetype": "text/x-python",
   "name": "python",
   "nbconvert_exporter": "python",
   "pygments_lexer": "ipython3",
   "version": "3.10.17"
  },
  "widgets": {
   "application/vnd.jupyter.widget-state+json": {
    "02b048fcb50c451d89964ee93405cb93": {
     "model_module": "@jupyter-widgets/controls",
     "model_module_version": "1.5.0",
     "model_name": "HTMLModel",
     "state": {
      "_dom_classes": [],
      "_model_module": "@jupyter-widgets/controls",
      "_model_module_version": "1.5.0",
      "_model_name": "HTMLModel",
      "_view_count": null,
      "_view_module": "@jupyter-widgets/controls",
      "_view_module_version": "1.5.0",
      "_view_name": "HTMLView",
      "description": "",
      "description_tooltip": null,
      "layout": "IPY_MODEL_673061059cb64053896079a0de7d3458",
      "placeholder": "​",
      "style": "IPY_MODEL_908c81b282f64785b4fa729646b00c98",
      "value": "Map: 100%"
     }
    },
    "1173b7a21b3a4792bda7baa084fc5147": {
     "model_module": "@jupyter-widgets/base",
     "model_module_version": "1.2.0",
     "model_name": "LayoutModel",
     "state": {
      "_model_module": "@jupyter-widgets/base",
      "_model_module_version": "1.2.0",
      "_model_name": "LayoutModel",
      "_view_count": null,
      "_view_module": "@jupyter-widgets/base",
      "_view_module_version": "1.2.0",
      "_view_name": "LayoutView",
      "align_content": null,
      "align_items": null,
      "align_self": null,
      "border": null,
      "bottom": null,
      "display": null,
      "flex": null,
      "flex_flow": null,
      "grid_area": null,
      "grid_auto_columns": null,
      "grid_auto_flow": null,
      "grid_auto_rows": null,
      "grid_column": null,
      "grid_gap": null,
      "grid_row": null,
      "grid_template_areas": null,
      "grid_template_columns": null,
      "grid_template_rows": null,
      "height": null,
      "justify_content": null,
      "justify_items": null,
      "left": null,
      "margin": null,
      "max_height": null,
      "max_width": null,
      "min_height": null,
      "min_width": null,
      "object_fit": null,
      "object_position": null,
      "order": null,
      "overflow": null,
      "overflow_x": null,
      "overflow_y": null,
      "padding": null,
      "right": null,
      "top": null,
      "visibility": null,
      "width": null
     }
    },
    "3b119211b51a4c1e847bf9c8e2fbd28c": {
     "model_module": "@jupyter-widgets/base",
     "model_module_version": "1.2.0",
     "model_name": "LayoutModel",
     "state": {
      "_model_module": "@jupyter-widgets/base",
      "_model_module_version": "1.2.0",
      "_model_name": "LayoutModel",
      "_view_count": null,
      "_view_module": "@jupyter-widgets/base",
      "_view_module_version": "1.2.0",
      "_view_name": "LayoutView",
      "align_content": null,
      "align_items": null,
      "align_self": null,
      "border": null,
      "bottom": null,
      "display": null,
      "flex": null,
      "flex_flow": null,
      "grid_area": null,
      "grid_auto_columns": null,
      "grid_auto_flow": null,
      "grid_auto_rows": null,
      "grid_column": null,
      "grid_gap": null,
      "grid_row": null,
      "grid_template_areas": null,
      "grid_template_columns": null,
      "grid_template_rows": null,
      "height": null,
      "justify_content": null,
      "justify_items": null,
      "left": null,
      "margin": null,
      "max_height": null,
      "max_width": null,
      "min_height": null,
      "min_width": null,
      "object_fit": null,
      "object_position": null,
      "order": null,
      "overflow": null,
      "overflow_x": null,
      "overflow_y": null,
      "padding": null,
      "right": null,
      "top": null,
      "visibility": null,
      "width": null
     }
    },
    "49be6b548baf43c5bcd1091e2bfd56f6": {
     "model_module": "@jupyter-widgets/controls",
     "model_module_version": "1.5.0",
     "model_name": "HTMLModel",
     "state": {
      "_dom_classes": [],
      "_model_module": "@jupyter-widgets/controls",
      "_model_module_version": "1.5.0",
      "_model_name": "HTMLModel",
      "_view_count": null,
      "_view_module": "@jupyter-widgets/controls",
      "_view_module_version": "1.5.0",
      "_view_name": "HTMLView",
      "description": "",
      "description_tooltip": null,
      "layout": "IPY_MODEL_e1ec82f4ca08434b85d3329bad4bf301",
      "placeholder": "​",
      "style": "IPY_MODEL_ed9744b33f834485b653da828cf72026",
      "value": " 160/160 [00:00&lt;00:00, 2077.03 examples/s]"
     }
    },
    "52c005c417a84f9aa9604239dd62197e": {
     "model_module": "@jupyter-widgets/controls",
     "model_module_version": "1.5.0",
     "model_name": "HTMLModel",
     "state": {
      "_dom_classes": [],
      "_model_module": "@jupyter-widgets/controls",
      "_model_module_version": "1.5.0",
      "_model_name": "HTMLModel",
      "_view_count": null,
      "_view_module": "@jupyter-widgets/controls",
      "_view_module_version": "1.5.0",
      "_view_name": "HTMLView",
      "description": "",
      "description_tooltip": null,
      "layout": "IPY_MODEL_3b119211b51a4c1e847bf9c8e2fbd28c",
      "placeholder": "​",
      "style": "IPY_MODEL_ad5f99fdfdd942fab037f03f0f6c9107",
      "value": "Map: 100%"
     }
    },
    "673061059cb64053896079a0de7d3458": {
     "model_module": "@jupyter-widgets/base",
     "model_module_version": "1.2.0",
     "model_name": "LayoutModel",
     "state": {
      "_model_module": "@jupyter-widgets/base",
      "_model_module_version": "1.2.0",
      "_model_name": "LayoutModel",
      "_view_count": null,
      "_view_module": "@jupyter-widgets/base",
      "_view_module_version": "1.2.0",
      "_view_name": "LayoutView",
      "align_content": null,
      "align_items": null,
      "align_self": null,
      "border": null,
      "bottom": null,
      "display": null,
      "flex": null,
      "flex_flow": null,
      "grid_area": null,
      "grid_auto_columns": null,
      "grid_auto_flow": null,
      "grid_auto_rows": null,
      "grid_column": null,
      "grid_gap": null,
      "grid_row": null,
      "grid_template_areas": null,
      "grid_template_columns": null,
      "grid_template_rows": null,
      "height": null,
      "justify_content": null,
      "justify_items": null,
      "left": null,
      "margin": null,
      "max_height": null,
      "max_width": null,
      "min_height": null,
      "min_width": null,
      "object_fit": null,
      "object_position": null,
      "order": null,
      "overflow": null,
      "overflow_x": null,
      "overflow_y": null,
      "padding": null,
      "right": null,
      "top": null,
      "visibility": null,
      "width": null
     }
    },
    "6c83dd832f784383aa67a7bac1c81722": {
     "model_module": "@jupyter-widgets/controls",
     "model_module_version": "1.5.0",
     "model_name": "HBoxModel",
     "state": {
      "_dom_classes": [],
      "_model_module": "@jupyter-widgets/controls",
      "_model_module_version": "1.5.0",
      "_model_name": "HBoxModel",
      "_view_count": null,
      "_view_module": "@jupyter-widgets/controls",
      "_view_module_version": "1.5.0",
      "_view_name": "HBoxView",
      "box_style": "",
      "children": [
       "IPY_MODEL_02b048fcb50c451d89964ee93405cb93",
       "IPY_MODEL_f7d0f2a7a7df4589b2ff1ea0562b8ae5",
       "IPY_MODEL_ce5267e4265c49b08e066b4a5806e8cf"
      ],
      "layout": "IPY_MODEL_c7a0ffa43bfd45bb82a110520ef065c6"
     }
    },
    "6fc3ad2df4a64a2aaba0d4567e3a9277": {
     "model_module": "@jupyter-widgets/base",
     "model_module_version": "1.2.0",
     "model_name": "LayoutModel",
     "state": {
      "_model_module": "@jupyter-widgets/base",
      "_model_module_version": "1.2.0",
      "_model_name": "LayoutModel",
      "_view_count": null,
      "_view_module": "@jupyter-widgets/base",
      "_view_module_version": "1.2.0",
      "_view_name": "LayoutView",
      "align_content": null,
      "align_items": null,
      "align_self": null,
      "border": null,
      "bottom": null,
      "display": null,
      "flex": null,
      "flex_flow": null,
      "grid_area": null,
      "grid_auto_columns": null,
      "grid_auto_flow": null,
      "grid_auto_rows": null,
      "grid_column": null,
      "grid_gap": null,
      "grid_row": null,
      "grid_template_areas": null,
      "grid_template_columns": null,
      "grid_template_rows": null,
      "height": null,
      "justify_content": null,
      "justify_items": null,
      "left": null,
      "margin": null,
      "max_height": null,
      "max_width": null,
      "min_height": null,
      "min_width": null,
      "object_fit": null,
      "object_position": null,
      "order": null,
      "overflow": null,
      "overflow_x": null,
      "overflow_y": null,
      "padding": null,
      "right": null,
      "top": null,
      "visibility": null,
      "width": null
     }
    },
    "908c81b282f64785b4fa729646b00c98": {
     "model_module": "@jupyter-widgets/controls",
     "model_module_version": "1.5.0",
     "model_name": "DescriptionStyleModel",
     "state": {
      "_model_module": "@jupyter-widgets/controls",
      "_model_module_version": "1.5.0",
      "_model_name": "DescriptionStyleModel",
      "_view_count": null,
      "_view_module": "@jupyter-widgets/base",
      "_view_module_version": "1.2.0",
      "_view_name": "StyleView",
      "description_width": ""
     }
    },
    "9f3f09b8e4bc411880e0d389c2043a88": {
     "model_module": "@jupyter-widgets/base",
     "model_module_version": "1.2.0",
     "model_name": "LayoutModel",
     "state": {
      "_model_module": "@jupyter-widgets/base",
      "_model_module_version": "1.2.0",
      "_model_name": "LayoutModel",
      "_view_count": null,
      "_view_module": "@jupyter-widgets/base",
      "_view_module_version": "1.2.0",
      "_view_name": "LayoutView",
      "align_content": null,
      "align_items": null,
      "align_self": null,
      "border": null,
      "bottom": null,
      "display": null,
      "flex": null,
      "flex_flow": null,
      "grid_area": null,
      "grid_auto_columns": null,
      "grid_auto_flow": null,
      "grid_auto_rows": null,
      "grid_column": null,
      "grid_gap": null,
      "grid_row": null,
      "grid_template_areas": null,
      "grid_template_columns": null,
      "grid_template_rows": null,
      "height": null,
      "justify_content": null,
      "justify_items": null,
      "left": null,
      "margin": null,
      "max_height": null,
      "max_width": null,
      "min_height": null,
      "min_width": null,
      "object_fit": null,
      "object_position": null,
      "order": null,
      "overflow": null,
      "overflow_x": null,
      "overflow_y": null,
      "padding": null,
      "right": null,
      "top": null,
      "visibility": null,
      "width": null
     }
    },
    "ad5f99fdfdd942fab037f03f0f6c9107": {
     "model_module": "@jupyter-widgets/controls",
     "model_module_version": "1.5.0",
     "model_name": "DescriptionStyleModel",
     "state": {
      "_model_module": "@jupyter-widgets/controls",
      "_model_module_version": "1.5.0",
      "_model_name": "DescriptionStyleModel",
      "_view_count": null,
      "_view_module": "@jupyter-widgets/base",
      "_view_module_version": "1.2.0",
      "_view_name": "StyleView",
      "description_width": ""
     }
    },
    "b45860c163b142189b6eb2eaacdcc1f4": {
     "model_module": "@jupyter-widgets/controls",
     "model_module_version": "1.5.0",
     "model_name": "ProgressStyleModel",
     "state": {
      "_model_module": "@jupyter-widgets/controls",
      "_model_module_version": "1.5.0",
      "_model_name": "ProgressStyleModel",
      "_view_count": null,
      "_view_module": "@jupyter-widgets/base",
      "_view_module_version": "1.2.0",
      "_view_name": "StyleView",
      "bar_color": null,
      "description_width": ""
     }
    },
    "c6c6c1949f1b4bbc9624647c4640dff9": {
     "model_module": "@jupyter-widgets/controls",
     "model_module_version": "1.5.0",
     "model_name": "HBoxModel",
     "state": {
      "_dom_classes": [],
      "_model_module": "@jupyter-widgets/controls",
      "_model_module_version": "1.5.0",
      "_model_name": "HBoxModel",
      "_view_count": null,
      "_view_module": "@jupyter-widgets/controls",
      "_view_module_version": "1.5.0",
      "_view_name": "HBoxView",
      "box_style": "",
      "children": [
       "IPY_MODEL_52c005c417a84f9aa9604239dd62197e",
       "IPY_MODEL_f5926d20d7dc4bc5a784126f57867a59",
       "IPY_MODEL_49be6b548baf43c5bcd1091e2bfd56f6"
      ],
      "layout": "IPY_MODEL_ebfc99985a16470e8e49c9b788c18302"
     }
    },
    "c7a0ffa43bfd45bb82a110520ef065c6": {
     "model_module": "@jupyter-widgets/base",
     "model_module_version": "1.2.0",
     "model_name": "LayoutModel",
     "state": {
      "_model_module": "@jupyter-widgets/base",
      "_model_module_version": "1.2.0",
      "_model_name": "LayoutModel",
      "_view_count": null,
      "_view_module": "@jupyter-widgets/base",
      "_view_module_version": "1.2.0",
      "_view_name": "LayoutView",
      "align_content": null,
      "align_items": null,
      "align_self": null,
      "border": null,
      "bottom": null,
      "display": null,
      "flex": null,
      "flex_flow": null,
      "grid_area": null,
      "grid_auto_columns": null,
      "grid_auto_flow": null,
      "grid_auto_rows": null,
      "grid_column": null,
      "grid_gap": null,
      "grid_row": null,
      "grid_template_areas": null,
      "grid_template_columns": null,
      "grid_template_rows": null,
      "height": null,
      "justify_content": null,
      "justify_items": null,
      "left": null,
      "margin": null,
      "max_height": null,
      "max_width": null,
      "min_height": null,
      "min_width": null,
      "object_fit": null,
      "object_position": null,
      "order": null,
      "overflow": null,
      "overflow_x": null,
      "overflow_y": null,
      "padding": null,
      "right": null,
      "top": null,
      "visibility": null,
      "width": null
     }
    },
    "ce5267e4265c49b08e066b4a5806e8cf": {
     "model_module": "@jupyter-widgets/controls",
     "model_module_version": "1.5.0",
     "model_name": "HTMLModel",
     "state": {
      "_dom_classes": [],
      "_model_module": "@jupyter-widgets/controls",
      "_model_module_version": "1.5.0",
      "_model_name": "HTMLModel",
      "_view_count": null,
      "_view_module": "@jupyter-widgets/controls",
      "_view_module_version": "1.5.0",
      "_view_name": "HTMLView",
      "description": "",
      "description_tooltip": null,
      "layout": "IPY_MODEL_9f3f09b8e4bc411880e0d389c2043a88",
      "placeholder": "​",
      "style": "IPY_MODEL_da44f8d632714e7d89b2222686eafa5f",
      "value": " 1440/1440 [00:00&lt;00:00, 2639.12 examples/s]"
     }
    },
    "da44f8d632714e7d89b2222686eafa5f": {
     "model_module": "@jupyter-widgets/controls",
     "model_module_version": "1.5.0",
     "model_name": "DescriptionStyleModel",
     "state": {
      "_model_module": "@jupyter-widgets/controls",
      "_model_module_version": "1.5.0",
      "_model_name": "DescriptionStyleModel",
      "_view_count": null,
      "_view_module": "@jupyter-widgets/base",
      "_view_module_version": "1.2.0",
      "_view_name": "StyleView",
      "description_width": ""
     }
    },
    "e1ec82f4ca08434b85d3329bad4bf301": {
     "model_module": "@jupyter-widgets/base",
     "model_module_version": "1.2.0",
     "model_name": "LayoutModel",
     "state": {
      "_model_module": "@jupyter-widgets/base",
      "_model_module_version": "1.2.0",
      "_model_name": "LayoutModel",
      "_view_count": null,
      "_view_module": "@jupyter-widgets/base",
      "_view_module_version": "1.2.0",
      "_view_name": "LayoutView",
      "align_content": null,
      "align_items": null,
      "align_self": null,
      "border": null,
      "bottom": null,
      "display": null,
      "flex": null,
      "flex_flow": null,
      "grid_area": null,
      "grid_auto_columns": null,
      "grid_auto_flow": null,
      "grid_auto_rows": null,
      "grid_column": null,
      "grid_gap": null,
      "grid_row": null,
      "grid_template_areas": null,
      "grid_template_columns": null,
      "grid_template_rows": null,
      "height": null,
      "justify_content": null,
      "justify_items": null,
      "left": null,
      "margin": null,
      "max_height": null,
      "max_width": null,
      "min_height": null,
      "min_width": null,
      "object_fit": null,
      "object_position": null,
      "order": null,
      "overflow": null,
      "overflow_x": null,
      "overflow_y": null,
      "padding": null,
      "right": null,
      "top": null,
      "visibility": null,
      "width": null
     }
    },
    "ebfc99985a16470e8e49c9b788c18302": {
     "model_module": "@jupyter-widgets/base",
     "model_module_version": "1.2.0",
     "model_name": "LayoutModel",
     "state": {
      "_model_module": "@jupyter-widgets/base",
      "_model_module_version": "1.2.0",
      "_model_name": "LayoutModel",
      "_view_count": null,
      "_view_module": "@jupyter-widgets/base",
      "_view_module_version": "1.2.0",
      "_view_name": "LayoutView",
      "align_content": null,
      "align_items": null,
      "align_self": null,
      "border": null,
      "bottom": null,
      "display": null,
      "flex": null,
      "flex_flow": null,
      "grid_area": null,
      "grid_auto_columns": null,
      "grid_auto_flow": null,
      "grid_auto_rows": null,
      "grid_column": null,
      "grid_gap": null,
      "grid_row": null,
      "grid_template_areas": null,
      "grid_template_columns": null,
      "grid_template_rows": null,
      "height": null,
      "justify_content": null,
      "justify_items": null,
      "left": null,
      "margin": null,
      "max_height": null,
      "max_width": null,
      "min_height": null,
      "min_width": null,
      "object_fit": null,
      "object_position": null,
      "order": null,
      "overflow": null,
      "overflow_x": null,
      "overflow_y": null,
      "padding": null,
      "right": null,
      "top": null,
      "visibility": null,
      "width": null
     }
    },
    "ed9744b33f834485b653da828cf72026": {
     "model_module": "@jupyter-widgets/controls",
     "model_module_version": "1.5.0",
     "model_name": "DescriptionStyleModel",
     "state": {
      "_model_module": "@jupyter-widgets/controls",
      "_model_module_version": "1.5.0",
      "_model_name": "DescriptionStyleModel",
      "_view_count": null,
      "_view_module": "@jupyter-widgets/base",
      "_view_module_version": "1.2.0",
      "_view_name": "StyleView",
      "description_width": ""
     }
    },
    "ef60343739754ac7a5d61a82749f2f30": {
     "model_module": "@jupyter-widgets/controls",
     "model_module_version": "1.5.0",
     "model_name": "ProgressStyleModel",
     "state": {
      "_model_module": "@jupyter-widgets/controls",
      "_model_module_version": "1.5.0",
      "_model_name": "ProgressStyleModel",
      "_view_count": null,
      "_view_module": "@jupyter-widgets/base",
      "_view_module_version": "1.2.0",
      "_view_name": "StyleView",
      "bar_color": null,
      "description_width": ""
     }
    },
    "f5926d20d7dc4bc5a784126f57867a59": {
     "model_module": "@jupyter-widgets/controls",
     "model_module_version": "1.5.0",
     "model_name": "FloatProgressModel",
     "state": {
      "_dom_classes": [],
      "_model_module": "@jupyter-widgets/controls",
      "_model_module_version": "1.5.0",
      "_model_name": "FloatProgressModel",
      "_view_count": null,
      "_view_module": "@jupyter-widgets/controls",
      "_view_module_version": "1.5.0",
      "_view_name": "ProgressView",
      "bar_style": "success",
      "description": "",
      "description_tooltip": null,
      "layout": "IPY_MODEL_6fc3ad2df4a64a2aaba0d4567e3a9277",
      "max": 160,
      "min": 0,
      "orientation": "horizontal",
      "style": "IPY_MODEL_ef60343739754ac7a5d61a82749f2f30",
      "value": 160
     }
    },
    "f7d0f2a7a7df4589b2ff1ea0562b8ae5": {
     "model_module": "@jupyter-widgets/controls",
     "model_module_version": "1.5.0",
     "model_name": "FloatProgressModel",
     "state": {
      "_dom_classes": [],
      "_model_module": "@jupyter-widgets/controls",
      "_model_module_version": "1.5.0",
      "_model_name": "FloatProgressModel",
      "_view_count": null,
      "_view_module": "@jupyter-widgets/controls",
      "_view_module_version": "1.5.0",
      "_view_name": "ProgressView",
      "bar_style": "success",
      "description": "",
      "description_tooltip": null,
      "layout": "IPY_MODEL_1173b7a21b3a4792bda7baa084fc5147",
      "max": 1440,
      "min": 0,
      "orientation": "horizontal",
      "style": "IPY_MODEL_b45860c163b142189b6eb2eaacdcc1f4",
      "value": 1440
     }
    }
   }
  }
 },
 "nbformat": 4,
 "nbformat_minor": 5
}
